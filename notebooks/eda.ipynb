{
 "cells": [
  {
   "cell_type": "code",
   "execution_count": null,
   "metadata": {
    "vscode": {
     "languageId": "plaintext"
    }
   },
   "outputs": [],
   "source": [
    "from web3 import Web3\n",
    "import os\n",
    "from dotenv import load_dotenv\n",
    "import pandas as pd\n",
    "import prophet\n",
    "import numpy as np\n",
    "import datetime as dt\n",
    "from datetime import timedelta\n",
    "\n",
    "from eth_account import Account\n",
    "from web3.middleware import geth_poa_middleware\n",
    "from eth_abi import decode\n",
    "from eth_utils import decode_hex, to_text\n",
    "\n",
    "import requests\n",
    "import random\n",
    "import json\n",
    "\n",
    "from dune_client.client import DuneClient\n",
    "\n",
    "import plotly.graph_objs as go"
   ]
  },
  {
   "cell_type": "code",
   "execution_count": null,
   "metadata": {
    "vscode": {
     "languageId": "plaintext"
    }
   },
   "outputs": [],
   "source": [
    "load_dotenv()\n",
    "\n",
    "ETHERSCAN_KEY = os.getenv(\"ETHERSCAN_KEY\")\n",
    "COINGECKO_API_KEY = os.getenv(\"COINGECKO_API_KEY\")\n",
    "DUNE_API_KEY = os.getenv('DUNE_API_KEY')\n",
    "FLIPSIDE_API_KEY=os.getenv('FLIPSIDE_API_KEY')\n",
    "dune = DuneClient(DUNE_API_KEY)\n",
    "\n",
    "GAS_ACCOUNTANT = os.getenv(\"GAS_ACCOUNTANT\")\n",
    "ACCOUNT_ADDRESS = os.getenv(\"ACCOUNT_ADDRESS\")\n",
    "PRIVATE_KEY = os.getenv(\"PRIVATE_KEY\")\n",
    "YIELD_FARM_ADDRESS = os.getenv(\"YIELD_FARM_ADDRESS\")\n",
    "STAKING_CONTRACT = os.getenv(\"STAKING_CONTRACT\")\n",
    "SEPOLIA_GATEWAY = os.getenv(\"SEPOLIA_GATEWAY\")"
   ]
  },
  {
   "cell_type": "code",
   "execution_count": null,
   "metadata": {
    "vscode": {
     "languageId": "plaintext"
    }
   },
   "outputs": [],
   "source": [
    "os.chdir('..')\n",
    "\n",
    "api = False"
   ]
  },
  {
   "cell_type": "code",
   "execution_count": null,
   "metadata": {
    "vscode": {
     "languageId": "plaintext"
    }
   },
   "outputs": [],
   "source": [
    "os.chdir('notebooks')"
   ]
  }
 ],
 "metadata": {
  "language_info": {
   "name": "python"
  }
 },
 "nbformat": 4,
 "nbformat_minor": 2
}
