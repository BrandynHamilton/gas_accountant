{
 "cells": [
  {
   "cell_type": "code",
   "execution_count": null,
   "metadata": {},
   "outputs": [],
   "source": [
    "from web3 import Web3\n",
    "import os\n",
    "from dotenv import load_dotenv\n",
    "import pandas as pd\n",
    "import prophet\n",
    "import numpy as np\n",
    "import datetime as dt\n",
    "from datetime import timedelta\n",
    "from prophet import Prophet\n",
    "from eth_account import Account\n",
    "from web3.middleware import geth_poa_middleware\n",
    "from eth_abi import decode\n",
    "from eth_utils import decode_hex, to_text\n",
    "\n",
    "import requests\n",
    "import random\n",
    "import json\n",
    "\n",
    "from dune_client.client import DuneClient\n",
    "\n",
    "import plotly.graph_objs as go"
   ]
  },
  {
   "cell_type": "code",
   "execution_count": null,
   "metadata": {},
   "outputs": [],
   "source": [
    "load_dotenv()\n",
    "\n",
    "ETHERSCAN_KEY = os.getenv(\"ETHERSCAN_KEY\")\n",
    "COINGECKO_API_KEY = os.getenv(\"COINGECKO_API_KEY\")\n",
    "DUNE_API_KEY = os.getenv('DUNE_API_KEY')\n",
    "FLIPSIDE_API_KEY=os.getenv('FLIPSIDE_API_KEY')\n",
    "dune = DuneClient(DUNE_API_KEY)\n",
    "\n",
    "GAS_RESERVE = os.getenv('GAS_RESERVE')\n",
    "ACCOUNT_ADDRESS = os.getenv(\"PROTOCOL_CONTROLLER\")\n",
    "PRIVATE_KEY = os.getenv(\"PROTOCOL_CONTROLLER_KEY\")\n",
    "YIELD_FARM_ADDRESS = os.getenv(\"YIELD_FARM_ADDRESS\")\n",
    "STAKING_CONTRACT = os.getenv(\"STAKING_CONTRACT\")\n",
    "SEPOLIA_GATEWAY = os.getenv(\"SEPOLIA_GATEWAY\")"
   ]
  },
  {
   "cell_type": "code",
   "execution_count": null,
   "metadata": {},
   "outputs": [],
   "source": [
    "os.chdir('..')\n",
    "\n",
    "api = False"
   ]
  },
  {
   "cell_type": "code",
   "execution_count": null,
   "metadata": {},
   "outputs": [],
   "source": [
    "abi_path = r'gas_accountant_contracts\\contracts\\artifacts'\n",
    "abi_paths = []  # Assuming GAS_ACCOUNTANT_ABI_PATH is predefined\n",
    "\n",
    "for file in os.listdir(abi_path):\n",
    "    if file.endswith('.json') and \"metadata\" not in file:  # Exclude metadata files\n",
    "        abi_paths.append(os.path.join(abi_path, file))  # Add full path\n",
    "\n",
    "print(abi_paths)  # Debug: Check the final list\n",
    "\n",
    "abis = {}\n",
    "\n",
    "for path in abi_paths:\n",
    "    filename = os.path.basename(path)  # Extract filename (e.g., \"YieldVault.json\")\n",
    "    name = os.path.splitext(filename)[0]  # Remove .json extension (e.g., \"YieldVault\")\n",
    "\n",
    "    with open(path, \"r\") as file:\n",
    "        abis[name] = json.load(file)  # Use name as key\n",
    "\n",
    "print(abis)  # Debug output"
   ]
  },
  {
   "cell_type": "code",
   "execution_count": null,
   "metadata": {},
   "outputs": [],
   "source": [
    "w3 = Web3(Web3.HTTPProvider(SEPOLIA_GATEWAY))\n",
    "\n",
    "ACCOUNT = Account.from_key(PRIVATE_KEY)\n",
    "\n",
    "w3.eth.default_account = ACCOUNT.address\n",
    "w3.middleware_onion.inject(geth_poa_middleware, layer=0)"
   ]
  },
  {
   "cell_type": "code",
   "execution_count": null,
   "metadata": {},
   "outputs": [],
   "source": []
  }
 ],
 "metadata": {
  "kernelspec": {
   "display_name": "steth_optimizer",
   "language": "python",
   "name": "steth_optimizer"
  },
  "language_info": {
   "name": "python",
   "version": "3.11.9"
  }
 },
 "nbformat": 4,
 "nbformat_minor": 2
}
