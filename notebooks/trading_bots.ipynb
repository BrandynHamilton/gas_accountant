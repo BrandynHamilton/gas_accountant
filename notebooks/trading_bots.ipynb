{
 "cells": [
  {
   "cell_type": "code",
   "execution_count": 1,
   "metadata": {},
   "outputs": [],
   "source": [
    "from web3 import Web3\n",
    "import os\n",
    "from dotenv import load_dotenv\n",
    "import pandas as pd\n",
    "import prophet\n",
    "import numpy as np\n",
    "import datetime as dt\n",
    "from datetime import timedelta\n",
    "from prophet import Prophet\n",
    "from eth_account import Account\n",
    "from web3.middleware import geth_poa_middleware\n",
    "from eth_abi import decode\n",
    "from eth_utils import decode_hex, to_text\n",
    "\n",
    "import requests\n",
    "import random\n",
    "import json\n",
    "\n",
    "from dune_client.client import DuneClient\n",
    "\n",
    "import plotly.graph_objs as go"
   ]
  },
  {
   "cell_type": "code",
   "execution_count": 2,
   "metadata": {},
   "outputs": [],
   "source": [
    "load_dotenv()\n",
    "\n",
    "ETHERSCAN_KEY = os.getenv(\"ETHERSCAN_KEY\")\n",
    "COINGECKO_API_KEY = os.getenv(\"COINGECKO_API_KEY\")\n",
    "DUNE_API_KEY = os.getenv('DUNE_API_KEY')\n",
    "FLIPSIDE_API_KEY=os.getenv('FLIPSIDE_API_KEY')\n",
    "dune = DuneClient(DUNE_API_KEY)\n",
    "\n",
    "FUND_ACCOUNT_ADDRESS = os.getenv('DEX_ADDRESS')\n",
    "\n",
    "GAS_RESERVE = os.getenv('GAS_RESERVE')\n",
    "ACCOUNT_ADDRESS = os.getenv(\"PROTOCOL_CONTROLLER\")\n",
    "PRIVATE_KEY = os.getenv(\"PROTOCOL_CONTROLLER_KEY\")\n",
    "YIELD_FARM_ADDRESS = os.getenv(\"YIELD_FARM_ADDRESS\")\n",
    "STAKING_CONTRACT = os.getenv(\"STAKING_CONTRACT\")\n",
    "SEPOLIA_GATEWAY = os.getenv(\"SEPOLIA_GATEWAY\")\n",
    "\n",
    "BOT_1_ADDRESS=os.getenv(\"BOT_1_ADDRESS\")\n",
    "BOT_2_ADDRESS=os.getenv(\"BOT_2_ADDRESS\")\n",
    "\n",
    "BOT_1_KEY=os.getenv(\"BOT_1_KEY\")\n",
    "BOT_2_KEY=os.getenv(\"BOT_2_KEY\")\n",
    "\n",
    "TBTC_CONTRACT_ADDRESS = os.getenv('TEST_BTC')\n",
    "TETH_CONTRACT_ADDRESS = os.getenv('TETH_WETH')"
   ]
  },
  {
   "cell_type": "code",
   "execution_count": 3,
   "metadata": {},
   "outputs": [],
   "source": [
    "os.chdir('..')\n",
    "\n",
    "api = False"
   ]
  },
  {
   "cell_type": "code",
   "execution_count": 4,
   "metadata": {},
   "outputs": [],
   "source": [
    "from python_scripts.web3_utils import get_balance"
   ]
  },
  {
   "cell_type": "code",
   "execution_count": 5,
   "metadata": {},
   "outputs": [
    {
     "name": "stdout",
     "output_type": "stream",
     "text": [
      "['gas_accountant_contracts\\\\contracts\\\\artifacts\\\\BatchTransfer_metadata.json', 'gas_accountant_contracts\\\\contracts\\\\artifacts\\\\GasReserve_metadata.json', 'gas_accountant_contracts\\\\contracts\\\\artifacts\\\\IGasReserve_metadata.json', 'gas_accountant_contracts\\\\contracts\\\\artifacts\\\\ILiquidStaking_metadata.json', 'gas_accountant_contracts\\\\contracts\\\\artifacts\\\\LiquidStaking_metadata.json', 'gas_accountant_contracts\\\\contracts\\\\artifacts\\\\StETHStrategy_metadata.json', 'gas_accountant_contracts\\\\contracts\\\\artifacts\\\\TestBTC_metadata.json', 'gas_accountant_contracts\\\\contracts\\\\artifacts\\\\TestETH_metadata.json', 'gas_accountant_contracts\\\\contracts\\\\artifacts\\\\YieldVault_metadata.json']\n",
      "{'BatchTransfer_metadata': {'compiler': {'version': '0.8.26+commit.8a97fa7a'}, 'language': 'Solidity', 'output': {'abi': [{'inputs': [{'internalType': 'address[]', 'name': 'recipients', 'type': 'address[]'}, {'internalType': 'uint256[]', 'name': 'amounts', 'type': 'uint256[]'}], 'name': 'batchSendETH', 'outputs': [], 'stateMutability': 'payable', 'type': 'function'}], 'devdoc': {'kind': 'dev', 'methods': {}, 'version': 1}, 'userdoc': {'kind': 'user', 'methods': {}, 'version': 1}}, 'settings': {'compilationTarget': {'contracts/batch_transfer.sol': 'BatchTransfer'}, 'evmVersion': 'cancun', 'libraries': {}, 'metadata': {'bytecodeHash': 'ipfs'}, 'optimizer': {'enabled': True, 'runs': 200}, 'remappings': []}, 'sources': {'contracts/batch_transfer.sol': {'keccak256': '0x5736406d426b961a65182f03f236032a22044473e51fb610585e9503ab036c68', 'license': 'MIT', 'urls': ['bzz-raw://f0eebb026218be8465787f16d190f5fd85f6b349bebd52b03eb65062d34f3713', 'dweb:/ipfs/QmRenTnEYAQL2v5FoW6ofNyQqhWq7ZnEKJhtaDASHEtPfP']}}, 'version': 1}, 'GasReserve_metadata': {'compiler': {'version': '0.8.26+commit.8a97fa7a'}, 'language': 'Solidity', 'output': {'abi': [{'inputs': [], 'stateMutability': 'nonpayable', 'type': 'constructor'}, {'anonymous': False, 'inputs': [{'indexed': False, 'internalType': 'uint256', 'name': 'timestamp', 'type': 'uint256'}, {'indexed': True, 'internalType': 'address', 'name': 'requester', 'type': 'address'}, {'indexed': False, 'internalType': 'uint256', 'name': 'amount', 'type': 'uint256'}], 'name': 'GasRequested', 'type': 'event'}, {'inputs': [], 'name': 'admin', 'outputs': [{'internalType': 'address', 'name': '', 'type': 'address'}], 'stateMutability': 'view', 'type': 'function'}, {'inputs': [{'internalType': 'address', 'name': '_contract', 'type': 'address'}], 'name': 'authorizeContract', 'outputs': [], 'stateMutability': 'nonpayable', 'type': 'function'}, {'inputs': [{'internalType': 'address', 'name': '', 'type': 'address'}], 'name': 'authorizedContracts', 'outputs': [{'internalType': 'bool', 'name': '', 'type': 'bool'}], 'stateMutability': 'view', 'type': 'function'}, {'inputs': [{'internalType': 'address', 'name': '_contract', 'type': 'address'}], 'name': 'deauthorizeContract', 'outputs': [], 'stateMutability': 'nonpayable', 'type': 'function'}, {'inputs': [], 'name': 'deposit', 'outputs': [], 'stateMutability': 'payable', 'type': 'function'}, {'inputs': [{'internalType': 'uint256', 'name': '_amount', 'type': 'uint256'}], 'name': 'emergencyWithdraw', 'outputs': [], 'stateMutability': 'nonpayable', 'type': 'function'}, {'inputs': [{'internalType': 'uint256', 'name': '_amount', 'type': 'uint256'}], 'name': 'requestGas', 'outputs': [], 'stateMutability': 'nonpayable', 'type': 'function'}], 'devdoc': {'kind': 'dev', 'methods': {}, 'version': 1}, 'userdoc': {'kind': 'user', 'methods': {}, 'version': 1}}, 'settings': {'compilationTarget': {'contracts/gas_reserve.sol': 'GasReserve'}, 'evmVersion': 'cancun', 'libraries': {}, 'metadata': {'bytecodeHash': 'ipfs'}, 'optimizer': {'enabled': True, 'runs': 200}, 'remappings': []}, 'sources': {'contracts/gas_reserve.sol': {'keccak256': '0xcdfaeab475e7e47d4af24039dd01c7e91f5d3b89f6344f4851cfec1206497a2d', 'license': 'MIT', 'urls': ['bzz-raw://aee3a5551a697e22003874fb4e1059fe9858199834994f9f1da25cd8a0abeac3', 'dweb:/ipfs/QmZ3F1ZySqayJkXR2fgB2f32F9mK9qtH2wAqDhjxmBaceX']}}, 'version': 1}, 'IGasReserve_metadata': {'compiler': {'version': '0.8.26+commit.8a97fa7a'}, 'language': 'Solidity', 'output': {'abi': [{'inputs': [{'internalType': 'uint256', 'name': '_amount', 'type': 'uint256'}], 'name': 'requestGas', 'outputs': [], 'stateMutability': 'nonpayable', 'type': 'function'}], 'devdoc': {'kind': 'dev', 'methods': {}, 'version': 1}, 'userdoc': {'kind': 'user', 'methods': {}, 'version': 1}}, 'settings': {'compilationTarget': {'contracts/vault.sol': 'IGasReserve'}, 'evmVersion': 'cancun', 'libraries': {}, 'metadata': {'bytecodeHash': 'ipfs'}, 'optimizer': {'enabled': True, 'runs': 200}, 'remappings': []}, 'sources': {'@openzeppelin/contracts/access/Ownable.sol': {'keccak256': '0xff6d0bb2e285473e5311d9d3caacb525ae3538a80758c10649a4d61029b017bb', 'license': 'MIT', 'urls': ['bzz-raw://8ed324d3920bb545059d66ab97d43e43ee85fd3bd52e03e401f020afb0b120f6', 'dweb:/ipfs/QmfEckWLmZkDDcoWrkEvMWhms66xwTLff9DDhegYpvHo1a']}, '@openzeppelin/contracts/interfaces/draft-IERC6093.sol': {'keccak256': '0x880da465c203cec76b10d72dbd87c80f387df4102274f23eea1f9c9b0918792b', 'license': 'MIT', 'urls': ['bzz-raw://399594cd8bb0143bc9e55e0f1d071d0d8c850a394fb7a319d50edd55d9ed822b', 'dweb:/ipfs/QmbPZzgtT6LEm9CMqWfagQFwETbV1ztpECBB1DtQHrKiRz']}, '@openzeppelin/contracts/token/ERC20/ERC20.sol': {'keccak256': '0x6ef9389a2c07bc40d8a7ba48914724ab2c108fac391ce12314f01321813e6368', 'license': 'MIT', 'urls': ['bzz-raw://b7a5cb39b1e6df68f4dd9a5e76e853d745a74ffb3dfd7df4ae4d2ace6992a171', 'dweb:/ipfs/QmPbzKR19rdM8X3PLQjsmHRepUKhvoZnedSR63XyGtXZib']}, '@openzeppelin/contracts/token/ERC20/IERC20.sol': {'keccak256': '0xe06a3f08a987af6ad2e1c1e774405d4fe08f1694b67517438b467cecf0da0ef7', 'license': 'MIT', 'urls': ['bzz-raw://df6f0c459663c9858b6cba2cda1d14a7d05a985bed6d2de72bd8e78c25ee79db', 'dweb:/ipfs/QmeTTxZ7qVk9rjEv2R4CpCwdf8UMCcRqDNMvzNxHc3Fnn9']}, '@openzeppelin/contracts/token/ERC20/extensions/IERC20Metadata.sol': {'keccak256': '0x70f2f713b13b7ce4610bcd0ac9fec0f3cc43693b043abcb8dc40a42a726eb330', 'license': 'MIT', 'urls': ['bzz-raw://c13d13304ac79a83ab1c30168967d19e2203342ebbd6a9bbce4db7550522dcbf', 'dweb:/ipfs/QmeN5jKMN2vw5bhacr6tkg78afbTTZUeaacNHqjWt4Ew1r']}, '@openzeppelin/contracts/utils/Context.sol': {'keccak256': '0x493033a8d1b176a037b2cc6a04dad01a5c157722049bbecf632ca876224dd4b2', 'license': 'MIT', 'urls': ['bzz-raw://6a708e8a5bdb1011c2c381c9a5cfd8a9a956d7d0a9dc1bd8bcdaf52f76ef2f12', 'dweb:/ipfs/Qmax9WHBnVsZP46ZxEMNRQpLQnrdE4dK8LehML1Py8FowF']}, 'contracts/vault.sol': {'keccak256': '0xc8adff169373aadcd7b767a816ced188afea48bf1874139d4e01272425c55598', 'license': 'MIT', 'urls': ['bzz-raw://38251b2988a31484e71cbe8d7612575ec0a6eee892b5921b9b245a57f3553c1e', 'dweb:/ipfs/QmXLXr2JvaHNyFhvMCkyWtY2XoFV5Cn9SqXuSrXAhwT5bS']}}, 'version': 1}, 'ILiquidStaking_metadata': {'compiler': {'version': '0.8.26+commit.8a97fa7a'}, 'language': 'Solidity', 'output': {'abi': [{'inputs': [], 'name': 'claimRewards', 'outputs': [], 'stateMutability': 'nonpayable', 'type': 'function'}, {'inputs': [], 'name': 'stake', 'outputs': [], 'stateMutability': 'payable', 'type': 'function'}], 'devdoc': {'kind': 'dev', 'methods': {}, 'version': 1}, 'userdoc': {'kind': 'user', 'methods': {}, 'version': 1}}, 'settings': {'compilationTarget': {'contracts/vault.sol': 'ILiquidStaking'}, 'evmVersion': 'cancun', 'libraries': {}, 'metadata': {'bytecodeHash': 'ipfs'}, 'optimizer': {'enabled': True, 'runs': 200}, 'remappings': []}, 'sources': {'@openzeppelin/contracts/access/Ownable.sol': {'keccak256': '0xff6d0bb2e285473e5311d9d3caacb525ae3538a80758c10649a4d61029b017bb', 'license': 'MIT', 'urls': ['bzz-raw://8ed324d3920bb545059d66ab97d43e43ee85fd3bd52e03e401f020afb0b120f6', 'dweb:/ipfs/QmfEckWLmZkDDcoWrkEvMWhms66xwTLff9DDhegYpvHo1a']}, '@openzeppelin/contracts/interfaces/draft-IERC6093.sol': {'keccak256': '0x880da465c203cec76b10d72dbd87c80f387df4102274f23eea1f9c9b0918792b', 'license': 'MIT', 'urls': ['bzz-raw://399594cd8bb0143bc9e55e0f1d071d0d8c850a394fb7a319d50edd55d9ed822b', 'dweb:/ipfs/QmbPZzgtT6LEm9CMqWfagQFwETbV1ztpECBB1DtQHrKiRz']}, '@openzeppelin/contracts/token/ERC20/ERC20.sol': {'keccak256': '0x6ef9389a2c07bc40d8a7ba48914724ab2c108fac391ce12314f01321813e6368', 'license': 'MIT', 'urls': ['bzz-raw://b7a5cb39b1e6df68f4dd9a5e76e853d745a74ffb3dfd7df4ae4d2ace6992a171', 'dweb:/ipfs/QmPbzKR19rdM8X3PLQjsmHRepUKhvoZnedSR63XyGtXZib']}, '@openzeppelin/contracts/token/ERC20/IERC20.sol': {'keccak256': '0xe06a3f08a987af6ad2e1c1e774405d4fe08f1694b67517438b467cecf0da0ef7', 'license': 'MIT', 'urls': ['bzz-raw://df6f0c459663c9858b6cba2cda1d14a7d05a985bed6d2de72bd8e78c25ee79db', 'dweb:/ipfs/QmeTTxZ7qVk9rjEv2R4CpCwdf8UMCcRqDNMvzNxHc3Fnn9']}, '@openzeppelin/contracts/token/ERC20/extensions/IERC20Metadata.sol': {'keccak256': '0x70f2f713b13b7ce4610bcd0ac9fec0f3cc43693b043abcb8dc40a42a726eb330', 'license': 'MIT', 'urls': ['bzz-raw://c13d13304ac79a83ab1c30168967d19e2203342ebbd6a9bbce4db7550522dcbf', 'dweb:/ipfs/QmeN5jKMN2vw5bhacr6tkg78afbTTZUeaacNHqjWt4Ew1r']}, '@openzeppelin/contracts/utils/Context.sol': {'keccak256': '0x493033a8d1b176a037b2cc6a04dad01a5c157722049bbecf632ca876224dd4b2', 'license': 'MIT', 'urls': ['bzz-raw://6a708e8a5bdb1011c2c381c9a5cfd8a9a956d7d0a9dc1bd8bcdaf52f76ef2f12', 'dweb:/ipfs/Qmax9WHBnVsZP46ZxEMNRQpLQnrdE4dK8LehML1Py8FowF']}, 'contracts/vault.sol': {'keccak256': '0xc8adff169373aadcd7b767a816ced188afea48bf1874139d4e01272425c55598', 'license': 'MIT', 'urls': ['bzz-raw://38251b2988a31484e71cbe8d7612575ec0a6eee892b5921b9b245a57f3553c1e', 'dweb:/ipfs/QmXLXr2JvaHNyFhvMCkyWtY2XoFV5Cn9SqXuSrXAhwT5bS']}}, 'version': 1}, 'LiquidStaking_metadata': {'compiler': {'version': '0.8.26+commit.8a97fa7a'}, 'language': 'Solidity', 'output': {'abi': [{'inputs': [{'internalType': 'address', 'name': 'initialOwner', 'type': 'address'}], 'stateMutability': 'nonpayable', 'type': 'constructor'}, {'inputs': [{'internalType': 'address', 'name': 'spender', 'type': 'address'}, {'internalType': 'uint256', 'name': 'allowance', 'type': 'uint256'}, {'internalType': 'uint256', 'name': 'needed', 'type': 'uint256'}], 'name': 'ERC20InsufficientAllowance', 'type': 'error'}, {'inputs': [{'internalType': 'address', 'name': 'sender', 'type': 'address'}, {'internalType': 'uint256', 'name': 'balance', 'type': 'uint256'}, {'internalType': 'uint256', 'name': 'needed', 'type': 'uint256'}], 'name': 'ERC20InsufficientBalance', 'type': 'error'}, {'inputs': [{'internalType': 'address', 'name': 'approver', 'type': 'address'}], 'name': 'ERC20InvalidApprover', 'type': 'error'}, {'inputs': [{'internalType': 'address', 'name': 'receiver', 'type': 'address'}], 'name': 'ERC20InvalidReceiver', 'type': 'error'}, {'inputs': [{'internalType': 'address', 'name': 'sender', 'type': 'address'}], 'name': 'ERC20InvalidSender', 'type': 'error'}, {'inputs': [{'internalType': 'address', 'name': 'spender', 'type': 'address'}], 'name': 'ERC20InvalidSpender', 'type': 'error'}, {'inputs': [{'internalType': 'address', 'name': 'owner', 'type': 'address'}], 'name': 'OwnableInvalidOwner', 'type': 'error'}, {'inputs': [{'internalType': 'address', 'name': 'account', 'type': 'address'}], 'name': 'OwnableUnauthorizedAccount', 'type': 'error'}, {'anonymous': False, 'inputs': [{'indexed': True, 'internalType': 'address', 'name': 'owner', 'type': 'address'}, {'indexed': True, 'internalType': 'address', 'name': 'spender', 'type': 'address'}, {'indexed': False, 'internalType': 'uint256', 'name': 'value', 'type': 'uint256'}], 'name': 'Approval', 'type': 'event'}, {'anonymous': False, 'inputs': [{'indexed': True, 'internalType': 'address', 'name': 'user', 'type': 'address'}, {'indexed': False, 'internalType': 'uint256', 'name': 'amount', 'type': 'uint256'}], 'name': 'ClaimRewards', 'type': 'event'}, {'anonymous': False, 'inputs': [{'indexed': True, 'internalType': 'address', 'name': 'previousOwner', 'type': 'address'}, {'indexed': True, 'internalType': 'address', 'name': 'newOwner', 'type': 'address'}], 'name': 'OwnershipTransferred', 'type': 'event'}, {'anonymous': False, 'inputs': [{'indexed': True, 'internalType': 'address', 'name': 'from', 'type': 'address'}, {'indexed': True, 'internalType': 'address', 'name': 'to', 'type': 'address'}, {'indexed': False, 'internalType': 'uint256', 'name': 'value', 'type': 'uint256'}], 'name': 'Transfer', 'type': 'event'}, {'inputs': [], 'name': 'APY', 'outputs': [{'internalType': 'uint256', 'name': '', 'type': 'uint256'}], 'stateMutability': 'view', 'type': 'function'}, {'inputs': [], 'name': 'SECONDS_IN_YEAR', 'outputs': [{'internalType': 'uint256', 'name': '', 'type': 'uint256'}], 'stateMutability': 'view', 'type': 'function'}, {'inputs': [{'internalType': 'address', 'name': 'owner', 'type': 'address'}, {'internalType': 'address', 'name': 'spender', 'type': 'address'}], 'name': 'allowance', 'outputs': [{'internalType': 'uint256', 'name': '', 'type': 'uint256'}], 'stateMutability': 'view', 'type': 'function'}, {'inputs': [{'internalType': 'address', 'name': 'spender', 'type': 'address'}, {'internalType': 'uint256', 'name': 'value', 'type': 'uint256'}], 'name': 'approve', 'outputs': [{'internalType': 'bool', 'name': '', 'type': 'bool'}], 'stateMutability': 'nonpayable', 'type': 'function'}, {'inputs': [{'internalType': 'address', 'name': 'account', 'type': 'address'}], 'name': 'balanceOf', 'outputs': [{'internalType': 'uint256', 'name': '', 'type': 'uint256'}], 'stateMutability': 'view', 'type': 'function'}, {'inputs': [], 'name': 'claimRewards', 'outputs': [], 'stateMutability': 'nonpayable', 'type': 'function'}, {'inputs': [], 'name': 'decimals', 'outputs': [{'internalType': 'uint8', 'name': '', 'type': 'uint8'}], 'stateMutability': 'view', 'type': 'function'}, {'inputs': [{'internalType': 'address', 'name': 'account', 'type': 'address'}], 'name': 'earned', 'outputs': [{'internalType': 'uint256', 'name': '', 'type': 'uint256'}], 'stateMutability': 'view', 'type': 'function'}, {'inputs': [], 'name': 'lastRewardTime', 'outputs': [{'internalType': 'uint256', 'name': '', 'type': 'uint256'}], 'stateMutability': 'view', 'type': 'function'}, {'inputs': [], 'name': 'name', 'outputs': [{'internalType': 'string', 'name': '', 'type': 'string'}], 'stateMutability': 'view', 'type': 'function'}, {'inputs': [], 'name': 'owner', 'outputs': [{'internalType': 'address', 'name': '', 'type': 'address'}], 'stateMutability': 'view', 'type': 'function'}, {'inputs': [], 'name': 'renounceOwnership', 'outputs': [], 'stateMutability': 'nonpayable', 'type': 'function'}, {'inputs': [], 'name': 'rewardPerToken', 'outputs': [{'internalType': 'uint256', 'name': '', 'type': 'uint256'}], 'stateMutability': 'view', 'type': 'function'}, {'inputs': [], 'name': 'rewardPerTokenStored', 'outputs': [{'internalType': 'uint256', 'name': '', 'type': 'uint256'}], 'stateMutability': 'view', 'type': 'function'}, {'inputs': [{'internalType': 'address', 'name': '', 'type': 'address'}], 'name': 'rewards', 'outputs': [{'internalType': 'uint256', 'name': '', 'type': 'uint256'}], 'stateMutability': 'view', 'type': 'function'}, {'inputs': [], 'name': 'stake', 'outputs': [], 'stateMutability': 'payable', 'type': 'function'}, {'inputs': [], 'name': 'symbol', 'outputs': [{'internalType': 'string', 'name': '', 'type': 'string'}], 'stateMutability': 'view', 'type': 'function'}, {'inputs': [], 'name': 'totalSupply', 'outputs': [{'internalType': 'uint256', 'name': '', 'type': 'uint256'}], 'stateMutability': 'view', 'type': 'function'}, {'inputs': [{'internalType': 'address', 'name': 'to', 'type': 'address'}, {'internalType': 'uint256', 'name': 'value', 'type': 'uint256'}], 'name': 'transfer', 'outputs': [{'internalType': 'bool', 'name': '', 'type': 'bool'}], 'stateMutability': 'nonpayable', 'type': 'function'}, {'inputs': [{'internalType': 'address', 'name': 'from', 'type': 'address'}, {'internalType': 'address', 'name': 'to', 'type': 'address'}, {'internalType': 'uint256', 'name': 'value', 'type': 'uint256'}], 'name': 'transferFrom', 'outputs': [{'internalType': 'bool', 'name': '', 'type': 'bool'}], 'stateMutability': 'nonpayable', 'type': 'function'}, {'inputs': [{'internalType': 'address', 'name': 'newOwner', 'type': 'address'}], 'name': 'transferOwnership', 'outputs': [], 'stateMutability': 'nonpayable', 'type': 'function'}, {'inputs': [{'internalType': 'uint256', 'name': '_amount', 'type': 'uint256'}], 'name': 'unstake', 'outputs': [], 'stateMutability': 'nonpayable', 'type': 'function'}, {'inputs': [{'internalType': 'address', 'name': '', 'type': 'address'}], 'name': 'userRewardPerTokenPaid', 'outputs': [{'internalType': 'uint256', 'name': '', 'type': 'uint256'}], 'stateMutability': 'view', 'type': 'function'}, {'inputs': [{'internalType': 'uint256', 'name': '_amount', 'type': 'uint256'}], 'name': 'withdrawETH', 'outputs': [], 'stateMutability': 'nonpayable', 'type': 'function'}, {'stateMutability': 'payable', 'type': 'receive'}], 'devdoc': {'errors': {'ERC20InsufficientAllowance(address,uint256,uint256)': [{'details': 'Indicates a failure with the `spender`â€™s `allowance`. Used in transfers.', 'params': {'allowance': 'Amount of tokens a `spender` is allowed to operate with.', 'needed': 'Minimum amount required to perform a transfer.', 'spender': 'Address that may be allowed to operate on tokens without being their owner.'}}], 'ERC20InsufficientBalance(address,uint256,uint256)': [{'details': 'Indicates an error related to the current `balance` of a `sender`. Used in transfers.', 'params': {'balance': 'Current balance for the interacting account.', 'needed': 'Minimum amount required to perform a transfer.', 'sender': 'Address whose tokens are being transferred.'}}], 'ERC20InvalidApprover(address)': [{'details': 'Indicates a failure with the `approver` of a token to be approved. Used in approvals.', 'params': {'approver': 'Address initiating an approval operation.'}}], 'ERC20InvalidReceiver(address)': [{'details': 'Indicates a failure with the token `receiver`. Used in transfers.', 'params': {'receiver': 'Address to which tokens are being transferred.'}}], 'ERC20InvalidSender(address)': [{'details': 'Indicates a failure with the token `sender`. Used in transfers.', 'params': {'sender': 'Address whose tokens are being transferred.'}}], 'ERC20InvalidSpender(address)': [{'details': 'Indicates a failure with the `spender` to be approved. Used in approvals.', 'params': {'spender': 'Address that may be allowed to operate on tokens without being their owner.'}}], 'OwnableInvalidOwner(address)': [{'details': 'The owner is not a valid owner account. (eg. `address(0)`)'}], 'OwnableUnauthorizedAccount(address)': [{'details': 'The caller account is not authorized to perform an operation.'}]}, 'events': {'Approval(address,address,uint256)': {'details': 'Emitted when the allowance of a `spender` for an `owner` is set by a call to {approve}. `value` is the new allowance.'}, 'Transfer(address,address,uint256)': {'details': 'Emitted when `value` tokens are moved from one account (`from`) to another (`to`). Note that `value` may be zero.'}}, 'kind': 'dev', 'methods': {'allowance(address,address)': {'details': 'See {IERC20-allowance}.'}, 'approve(address,uint256)': {'details': 'See {IERC20-approve}. NOTE: If `value` is the maximum `uint256`, the allowance is not updated on `transferFrom`. This is semantically equivalent to an infinite approval. Requirements: - `spender` cannot be the zero address.'}, 'balanceOf(address)': {'details': 'See {IERC20-balanceOf}.'}, 'decimals()': {'details': \"Returns the number of decimals used to get its user representation. For example, if `decimals` equals `2`, a balance of `505` tokens should be displayed to a user as `5.05` (`505 / 10 ** 2`). Tokens usually opt for a value of 18, imitating the relationship between Ether and Wei. This is the default value returned by this function, unless it's overridden. NOTE: This information is only used for _display_ purposes: it in no way affects any of the arithmetic of the contract, including {IERC20-balanceOf} and {IERC20-transfer}.\"}, 'name()': {'details': 'Returns the name of the token.'}, 'owner()': {'details': 'Returns the address of the current owner.'}, 'renounceOwnership()': {'details': 'Leaves the contract without owner. It will not be possible to call `onlyOwner` functions. Can only be called by the current owner. NOTE: Renouncing ownership will leave the contract without an owner, thereby disabling any functionality that is only available to the owner.'}, 'symbol()': {'details': 'Returns the symbol of the token, usually a shorter version of the name.'}, 'totalSupply()': {'details': 'See {IERC20-totalSupply}.'}, 'transfer(address,uint256)': {'details': 'See {IERC20-transfer}. Requirements: - `to` cannot be the zero address. - the caller must have a balance of at least `value`.'}, 'transferFrom(address,address,uint256)': {'details': \"See {IERC20-transferFrom}. Skips emitting an {Approval} event indicating an allowance update. This is not required by the ERC. See {xref-ERC20-_approve-address-address-uint256-bool-}[_approve]. NOTE: Does not update the allowance if the current allowance is the maximum `uint256`. Requirements: - `from` and `to` cannot be the zero address. - `from` must have a balance of at least `value`. - the caller must have allowance for ``from``'s tokens of at least `value`.\"}, 'transferOwnership(address)': {'details': 'Transfers ownership of the contract to a new account (`newOwner`). Can only be called by the current owner.'}}, 'version': 1}, 'userdoc': {'kind': 'user', 'methods': {}, 'version': 1}}, 'settings': {'compilationTarget': {'contracts/liquid_staking.sol': 'LiquidStaking'}, 'evmVersion': 'cancun', 'libraries': {}, 'metadata': {'bytecodeHash': 'ipfs'}, 'optimizer': {'enabled': True, 'runs': 200}, 'remappings': []}, 'sources': {'@openzeppelin/contracts/access/Ownable.sol': {'keccak256': '0xff6d0bb2e285473e5311d9d3caacb525ae3538a80758c10649a4d61029b017bb', 'license': 'MIT', 'urls': ['bzz-raw://8ed324d3920bb545059d66ab97d43e43ee85fd3bd52e03e401f020afb0b120f6', 'dweb:/ipfs/QmfEckWLmZkDDcoWrkEvMWhms66xwTLff9DDhegYpvHo1a']}, '@openzeppelin/contracts/interfaces/draft-IERC6093.sol': {'keccak256': '0x880da465c203cec76b10d72dbd87c80f387df4102274f23eea1f9c9b0918792b', 'license': 'MIT', 'urls': ['bzz-raw://399594cd8bb0143bc9e55e0f1d071d0d8c850a394fb7a319d50edd55d9ed822b', 'dweb:/ipfs/QmbPZzgtT6LEm9CMqWfagQFwETbV1ztpECBB1DtQHrKiRz']}, '@openzeppelin/contracts/token/ERC20/ERC20.sol': {'keccak256': '0x6ef9389a2c07bc40d8a7ba48914724ab2c108fac391ce12314f01321813e6368', 'license': 'MIT', 'urls': ['bzz-raw://b7a5cb39b1e6df68f4dd9a5e76e853d745a74ffb3dfd7df4ae4d2ace6992a171', 'dweb:/ipfs/QmPbzKR19rdM8X3PLQjsmHRepUKhvoZnedSR63XyGtXZib']}, '@openzeppelin/contracts/token/ERC20/IERC20.sol': {'keccak256': '0xe06a3f08a987af6ad2e1c1e774405d4fe08f1694b67517438b467cecf0da0ef7', 'license': 'MIT', 'urls': ['bzz-raw://df6f0c459663c9858b6cba2cda1d14a7d05a985bed6d2de72bd8e78c25ee79db', 'dweb:/ipfs/QmeTTxZ7qVk9rjEv2R4CpCwdf8UMCcRqDNMvzNxHc3Fnn9']}, '@openzeppelin/contracts/token/ERC20/extensions/IERC20Metadata.sol': {'keccak256': '0x70f2f713b13b7ce4610bcd0ac9fec0f3cc43693b043abcb8dc40a42a726eb330', 'license': 'MIT', 'urls': ['bzz-raw://c13d13304ac79a83ab1c30168967d19e2203342ebbd6a9bbce4db7550522dcbf', 'dweb:/ipfs/QmeN5jKMN2vw5bhacr6tkg78afbTTZUeaacNHqjWt4Ew1r']}, '@openzeppelin/contracts/utils/Context.sol': {'keccak256': '0x493033a8d1b176a037b2cc6a04dad01a5c157722049bbecf632ca876224dd4b2', 'license': 'MIT', 'urls': ['bzz-raw://6a708e8a5bdb1011c2c381c9a5cfd8a9a956d7d0a9dc1bd8bcdaf52f76ef2f12', 'dweb:/ipfs/Qmax9WHBnVsZP46ZxEMNRQpLQnrdE4dK8LehML1Py8FowF']}, 'contracts/liquid_staking.sol': {'keccak256': '0x249297030cd2cffc49b1db14de094a89de75094928e73f05c34fe7b11a0a5c98', 'license': 'MIT', 'urls': ['bzz-raw://22ba08ee5f7582e3c9059ad58e5a382c63d05f4e8d0174ab73073a2710e44b79', 'dweb:/ipfs/QmejiSy9CkPEH3jJ6dC38ykG2sAgiDL27i6nf1ubxrB18e']}}, 'version': 1}, 'StETHStrategy_metadata': {'compiler': {'version': '0.8.26+commit.8a97fa7a'}, 'language': 'Solidity', 'output': {'abi': [{'inputs': [{'internalType': 'address', 'name': '_stETH', 'type': 'address'}, {'internalType': 'address', 'name': '_vault', 'type': 'address'}, {'internalType': 'address', 'name': '_farmingPool', 'type': 'address'}, {'internalType': 'address', 'name': '_gasReserve', 'type': 'address'}], 'stateMutability': 'nonpayable', 'type': 'constructor'}, {'inputs': [], 'name': 'claimRewards', 'outputs': [], 'stateMutability': 'nonpayable', 'type': 'function'}, {'inputs': [{'internalType': 'uint256', 'name': '_amount', 'type': 'uint256'}], 'name': 'deposit', 'outputs': [], 'stateMutability': 'nonpayable', 'type': 'function'}, {'inputs': [], 'name': 'farmingPool', 'outputs': [{'internalType': 'address', 'name': '', 'type': 'address'}], 'stateMutability': 'view', 'type': 'function'}, {'inputs': [], 'name': 'gasReserve', 'outputs': [{'internalType': 'address', 'name': '', 'type': 'address'}], 'stateMutability': 'view', 'type': 'function'}, {'inputs': [], 'name': 'stETH', 'outputs': [{'internalType': 'contract IERC20', 'name': '', 'type': 'address'}], 'stateMutability': 'view', 'type': 'function'}, {'inputs': [], 'name': 'vault', 'outputs': [{'internalType': 'address', 'name': '', 'type': 'address'}], 'stateMutability': 'view', 'type': 'function'}, {'stateMutability': 'payable', 'type': 'receive'}], 'devdoc': {'kind': 'dev', 'methods': {}, 'version': 1}, 'userdoc': {'kind': 'user', 'methods': {}, 'version': 1}}, 'settings': {'compilationTarget': {'contracts/strategy.sol': 'StETHStrategy'}, 'evmVersion': 'cancun', 'libraries': {}, 'metadata': {'bytecodeHash': 'ipfs'}, 'optimizer': {'enabled': True, 'runs': 200}, 'remappings': []}, 'sources': {'@openzeppelin/contracts/token/ERC20/IERC20.sol': {'keccak256': '0xe06a3f08a987af6ad2e1c1e774405d4fe08f1694b67517438b467cecf0da0ef7', 'license': 'MIT', 'urls': ['bzz-raw://df6f0c459663c9858b6cba2cda1d14a7d05a985bed6d2de72bd8e78c25ee79db', 'dweb:/ipfs/QmeTTxZ7qVk9rjEv2R4CpCwdf8UMCcRqDNMvzNxHc3Fnn9']}, 'contracts/strategy.sol': {'keccak256': '0xf964a078be5567ed51c766580ba8007be6f98a374e22d85b9e410feddeffe6a5', 'license': 'MIT', 'urls': ['bzz-raw://96f5661e8428bccc4487c0c444fd4a56d8a4490241d79c12e433b074de23e1b5', 'dweb:/ipfs/QmapRWByBEymnMsUFs1fcxgRR72qk7HYjgdxEzhYhEL7tY']}}, 'version': 1}, 'TestBTC_metadata': {'compiler': {'version': '0.8.26+commit.8a97fa7a'}, 'language': 'Solidity', 'output': {'abi': [{'inputs': [{'internalType': 'address', 'name': 'initialOwner', 'type': 'address'}], 'stateMutability': 'nonpayable', 'type': 'constructor'}, {'inputs': [], 'name': 'ECDSAInvalidSignature', 'type': 'error'}, {'inputs': [{'internalType': 'uint256', 'name': 'length', 'type': 'uint256'}], 'name': 'ECDSAInvalidSignatureLength', 'type': 'error'}, {'inputs': [{'internalType': 'bytes32', 'name': 's', 'type': 'bytes32'}], 'name': 'ECDSAInvalidSignatureS', 'type': 'error'}, {'inputs': [{'internalType': 'address', 'name': 'spender', 'type': 'address'}, {'internalType': 'uint256', 'name': 'allowance', 'type': 'uint256'}, {'internalType': 'uint256', 'name': 'needed', 'type': 'uint256'}], 'name': 'ERC20InsufficientAllowance', 'type': 'error'}, {'inputs': [{'internalType': 'address', 'name': 'sender', 'type': 'address'}, {'internalType': 'uint256', 'name': 'balance', 'type': 'uint256'}, {'internalType': 'uint256', 'name': 'needed', 'type': 'uint256'}], 'name': 'ERC20InsufficientBalance', 'type': 'error'}, {'inputs': [{'internalType': 'address', 'name': 'approver', 'type': 'address'}], 'name': 'ERC20InvalidApprover', 'type': 'error'}, {'inputs': [{'internalType': 'address', 'name': 'receiver', 'type': 'address'}], 'name': 'ERC20InvalidReceiver', 'type': 'error'}, {'inputs': [{'internalType': 'address', 'name': 'sender', 'type': 'address'}], 'name': 'ERC20InvalidSender', 'type': 'error'}, {'inputs': [{'internalType': 'address', 'name': 'spender', 'type': 'address'}], 'name': 'ERC20InvalidSpender', 'type': 'error'}, {'inputs': [{'internalType': 'uint256', 'name': 'deadline', 'type': 'uint256'}], 'name': 'ERC2612ExpiredSignature', 'type': 'error'}, {'inputs': [{'internalType': 'address', 'name': 'signer', 'type': 'address'}, {'internalType': 'address', 'name': 'owner', 'type': 'address'}], 'name': 'ERC2612InvalidSigner', 'type': 'error'}, {'inputs': [{'internalType': 'address', 'name': 'account', 'type': 'address'}, {'internalType': 'uint256', 'name': 'currentNonce', 'type': 'uint256'}], 'name': 'InvalidAccountNonce', 'type': 'error'}, {'inputs': [], 'name': 'InvalidShortString', 'type': 'error'}, {'inputs': [{'internalType': 'address', 'name': 'owner', 'type': 'address'}], 'name': 'OwnableInvalidOwner', 'type': 'error'}, {'inputs': [{'internalType': 'address', 'name': 'account', 'type': 'address'}], 'name': 'OwnableUnauthorizedAccount', 'type': 'error'}, {'inputs': [{'internalType': 'string', 'name': 'str', 'type': 'string'}], 'name': 'StringTooLong', 'type': 'error'}, {'anonymous': False, 'inputs': [{'indexed': True, 'internalType': 'address', 'name': 'owner', 'type': 'address'}, {'indexed': True, 'internalType': 'address', 'name': 'spender', 'type': 'address'}, {'indexed': False, 'internalType': 'uint256', 'name': 'value', 'type': 'uint256'}], 'name': 'Approval', 'type': 'event'}, {'anonymous': False, 'inputs': [], 'name': 'EIP712DomainChanged', 'type': 'event'}, {'anonymous': False, 'inputs': [{'indexed': True, 'internalType': 'address', 'name': 'previousOwner', 'type': 'address'}, {'indexed': True, 'internalType': 'address', 'name': 'newOwner', 'type': 'address'}], 'name': 'OwnershipTransferred', 'type': 'event'}, {'anonymous': False, 'inputs': [{'indexed': True, 'internalType': 'address', 'name': 'from', 'type': 'address'}, {'indexed': True, 'internalType': 'address', 'name': 'to', 'type': 'address'}, {'indexed': False, 'internalType': 'uint256', 'name': 'value', 'type': 'uint256'}], 'name': 'Transfer', 'type': 'event'}, {'inputs': [], 'name': 'DOMAIN_SEPARATOR', 'outputs': [{'internalType': 'bytes32', 'name': '', 'type': 'bytes32'}], 'stateMutability': 'view', 'type': 'function'}, {'inputs': [{'internalType': 'address', 'name': 'owner', 'type': 'address'}, {'internalType': 'address', 'name': 'spender', 'type': 'address'}], 'name': 'allowance', 'outputs': [{'internalType': 'uint256', 'name': '', 'type': 'uint256'}], 'stateMutability': 'view', 'type': 'function'}, {'inputs': [{'internalType': 'address', 'name': 'spender', 'type': 'address'}, {'internalType': 'uint256', 'name': 'value', 'type': 'uint256'}], 'name': 'approve', 'outputs': [{'internalType': 'bool', 'name': '', 'type': 'bool'}], 'stateMutability': 'nonpayable', 'type': 'function'}, {'inputs': [{'internalType': 'address', 'name': 'account', 'type': 'address'}], 'name': 'balanceOf', 'outputs': [{'internalType': 'uint256', 'name': '', 'type': 'uint256'}], 'stateMutability': 'view', 'type': 'function'}, {'inputs': [], 'name': 'decimals', 'outputs': [{'internalType': 'uint8', 'name': '', 'type': 'uint8'}], 'stateMutability': 'view', 'type': 'function'}, {'inputs': [], 'name': 'eip712Domain', 'outputs': [{'internalType': 'bytes1', 'name': 'fields', 'type': 'bytes1'}, {'internalType': 'string', 'name': 'name', 'type': 'string'}, {'internalType': 'string', 'name': 'version', 'type': 'string'}, {'internalType': 'uint256', 'name': 'chainId', 'type': 'uint256'}, {'internalType': 'address', 'name': 'verifyingContract', 'type': 'address'}, {'internalType': 'bytes32', 'name': 'salt', 'type': 'bytes32'}, {'internalType': 'uint256[]', 'name': 'extensions', 'type': 'uint256[]'}], 'stateMutability': 'view', 'type': 'function'}, {'inputs': [{'internalType': 'address', 'name': 'to', 'type': 'address'}, {'internalType': 'uint256', 'name': 'amount', 'type': 'uint256'}], 'name': 'mint', 'outputs': [], 'stateMutability': 'nonpayable', 'type': 'function'}, {'inputs': [], 'name': 'name', 'outputs': [{'internalType': 'string', 'name': '', 'type': 'string'}], 'stateMutability': 'view', 'type': 'function'}, {'inputs': [{'internalType': 'address', 'name': 'owner', 'type': 'address'}], 'name': 'nonces', 'outputs': [{'internalType': 'uint256', 'name': '', 'type': 'uint256'}], 'stateMutability': 'view', 'type': 'function'}, {'inputs': [], 'name': 'owner', 'outputs': [{'internalType': 'address', 'name': '', 'type': 'address'}], 'stateMutability': 'view', 'type': 'function'}, {'inputs': [{'internalType': 'address', 'name': 'owner', 'type': 'address'}, {'internalType': 'address', 'name': 'spender', 'type': 'address'}, {'internalType': 'uint256', 'name': 'value', 'type': 'uint256'}, {'internalType': 'uint256', 'name': 'deadline', 'type': 'uint256'}, {'internalType': 'uint8', 'name': 'v', 'type': 'uint8'}, {'internalType': 'bytes32', 'name': 'r', 'type': 'bytes32'}, {'internalType': 'bytes32', 'name': 's', 'type': 'bytes32'}], 'name': 'permit', 'outputs': [], 'stateMutability': 'nonpayable', 'type': 'function'}, {'inputs': [], 'name': 'renounceOwnership', 'outputs': [], 'stateMutability': 'nonpayable', 'type': 'function'}, {'inputs': [], 'name': 'symbol', 'outputs': [{'internalType': 'string', 'name': '', 'type': 'string'}], 'stateMutability': 'view', 'type': 'function'}, {'inputs': [], 'name': 'totalSupply', 'outputs': [{'internalType': 'uint256', 'name': '', 'type': 'uint256'}], 'stateMutability': 'view', 'type': 'function'}, {'inputs': [{'internalType': 'address', 'name': 'to', 'type': 'address'}, {'internalType': 'uint256', 'name': 'value', 'type': 'uint256'}], 'name': 'transfer', 'outputs': [{'internalType': 'bool', 'name': '', 'type': 'bool'}], 'stateMutability': 'nonpayable', 'type': 'function'}, {'inputs': [{'internalType': 'address', 'name': 'from', 'type': 'address'}, {'internalType': 'address', 'name': 'to', 'type': 'address'}, {'internalType': 'uint256', 'name': 'value', 'type': 'uint256'}], 'name': 'transferFrom', 'outputs': [{'internalType': 'bool', 'name': '', 'type': 'bool'}], 'stateMutability': 'nonpayable', 'type': 'function'}, {'inputs': [{'internalType': 'address', 'name': 'newOwner', 'type': 'address'}], 'name': 'transferOwnership', 'outputs': [], 'stateMutability': 'nonpayable', 'type': 'function'}], 'devdoc': {'errors': {'ECDSAInvalidSignature()': [{'details': 'The signature derives the `address(0)`.'}], 'ECDSAInvalidSignatureLength(uint256)': [{'details': 'The signature has an invalid length.'}], 'ECDSAInvalidSignatureS(bytes32)': [{'details': 'The signature has an S value that is in the upper half order.'}], 'ERC20InsufficientAllowance(address,uint256,uint256)': [{'details': 'Indicates a failure with the `spender`â€™s `allowance`. Used in transfers.', 'params': {'allowance': 'Amount of tokens a `spender` is allowed to operate with.', 'needed': 'Minimum amount required to perform a transfer.', 'spender': 'Address that may be allowed to operate on tokens without being their owner.'}}], 'ERC20InsufficientBalance(address,uint256,uint256)': [{'details': 'Indicates an error related to the current `balance` of a `sender`. Used in transfers.', 'params': {'balance': 'Current balance for the interacting account.', 'needed': 'Minimum amount required to perform a transfer.', 'sender': 'Address whose tokens are being transferred.'}}], 'ERC20InvalidApprover(address)': [{'details': 'Indicates a failure with the `approver` of a token to be approved. Used in approvals.', 'params': {'approver': 'Address initiating an approval operation.'}}], 'ERC20InvalidReceiver(address)': [{'details': 'Indicates a failure with the token `receiver`. Used in transfers.', 'params': {'receiver': 'Address to which tokens are being transferred.'}}], 'ERC20InvalidSender(address)': [{'details': 'Indicates a failure with the token `sender`. Used in transfers.', 'params': {'sender': 'Address whose tokens are being transferred.'}}], 'ERC20InvalidSpender(address)': [{'details': 'Indicates a failure with the `spender` to be approved. Used in approvals.', 'params': {'spender': 'Address that may be allowed to operate on tokens without being their owner.'}}], 'ERC2612ExpiredSignature(uint256)': [{'details': 'Permit deadline has expired.'}], 'ERC2612InvalidSigner(address,address)': [{'details': 'Mismatched signature.'}], 'InvalidAccountNonce(address,uint256)': [{'details': 'The nonce used for an `account` is not the expected current nonce.'}], 'OwnableInvalidOwner(address)': [{'details': 'The owner is not a valid owner account. (eg. `address(0)`)'}], 'OwnableUnauthorizedAccount(address)': [{'details': 'The caller account is not authorized to perform an operation.'}]}, 'events': {'Approval(address,address,uint256)': {'details': 'Emitted when the allowance of a `spender` for an `owner` is set by a call to {approve}. `value` is the new allowance.'}, 'EIP712DomainChanged()': {'details': 'MAY be emitted to signal that the domain could have changed.'}, 'Transfer(address,address,uint256)': {'details': 'Emitted when `value` tokens are moved from one account (`from`) to another (`to`). Note that `value` may be zero.'}}, 'kind': 'dev', 'methods': {'DOMAIN_SEPARATOR()': {'details': 'Returns the domain separator used in the encoding of the signature for {permit}, as defined by {EIP712}.'}, 'allowance(address,address)': {'details': 'See {IERC20-allowance}.'}, 'approve(address,uint256)': {'details': 'See {IERC20-approve}. NOTE: If `value` is the maximum `uint256`, the allowance is not updated on `transferFrom`. This is semantically equivalent to an infinite approval. Requirements: - `spender` cannot be the zero address.'}, 'balanceOf(address)': {'details': 'See {IERC20-balanceOf}.'}, 'decimals()': {'details': \"Returns the number of decimals used to get its user representation. For example, if `decimals` equals `2`, a balance of `505` tokens should be displayed to a user as `5.05` (`505 / 10 ** 2`). Tokens usually opt for a value of 18, imitating the relationship between Ether and Wei. This is the default value returned by this function, unless it's overridden. NOTE: This information is only used for _display_ purposes: it in no way affects any of the arithmetic of the contract, including {IERC20-balanceOf} and {IERC20-transfer}.\"}, 'eip712Domain()': {'details': 'See {IERC-5267}.'}, 'name()': {'details': 'Returns the name of the token.'}, 'nonces(address)': {'details': \"Returns the current nonce for `owner`. This value must be included whenever a signature is generated for {permit}. Every successful call to {permit} increases ``owner``'s nonce by one. This prevents a signature from being used multiple times.\"}, 'owner()': {'details': 'Returns the address of the current owner.'}, 'permit(address,address,uint256,uint256,uint8,bytes32,bytes32)': {'details': \"Sets `value` as the allowance of `spender` over ``owner``'s tokens, given ``owner``'s signed approval. IMPORTANT: The same issues {IERC20-approve} has related to transaction ordering also apply here. Emits an {Approval} event. Requirements: - `spender` cannot be the zero address. - `deadline` must be a timestamp in the future. - `v`, `r` and `s` must be a valid `secp256k1` signature from `owner` over the EIP712-formatted function arguments. - the signature must use ``owner``'s current nonce (see {nonces}). For more information on the signature format, see the https://eips.ethereum.org/EIPS/eip-2612#specification[relevant EIP section]. CAUTION: See Security Considerations above.\"}, 'renounceOwnership()': {'details': 'Leaves the contract without owner. It will not be possible to call `onlyOwner` functions. Can only be called by the current owner. NOTE: Renouncing ownership will leave the contract without an owner, thereby disabling any functionality that is only available to the owner.'}, 'symbol()': {'details': 'Returns the symbol of the token, usually a shorter version of the name.'}, 'totalSupply()': {'details': 'See {IERC20-totalSupply}.'}, 'transfer(address,uint256)': {'details': 'See {IERC20-transfer}. Requirements: - `to` cannot be the zero address. - the caller must have a balance of at least `value`.'}, 'transferFrom(address,address,uint256)': {'details': \"See {IERC20-transferFrom}. Skips emitting an {Approval} event indicating an allowance update. This is not required by the ERC. See {xref-ERC20-_approve-address-address-uint256-bool-}[_approve]. NOTE: Does not update the allowance if the current allowance is the maximum `uint256`. Requirements: - `from` and `to` cannot be the zero address. - `from` must have a balance of at least `value`. - the caller must have allowance for ``from``'s tokens of at least `value`.\"}, 'transferOwnership(address)': {'details': 'Transfers ownership of the contract to a new account (`newOwner`). Can only be called by the current owner.'}}, 'version': 1}, 'userdoc': {'kind': 'user', 'methods': {}, 'version': 1}}, 'settings': {'compilationTarget': {'contracts/test_token1.sol': 'TestBTC'}, 'evmVersion': 'cancun', 'libraries': {}, 'metadata': {'bytecodeHash': 'ipfs'}, 'optimizer': {'enabled': True, 'runs': 200}, 'remappings': []}, 'sources': {'@openzeppelin/contracts/access/Ownable.sol': {'keccak256': '0xff6d0bb2e285473e5311d9d3caacb525ae3538a80758c10649a4d61029b017bb', 'license': 'MIT', 'urls': ['bzz-raw://8ed324d3920bb545059d66ab97d43e43ee85fd3bd52e03e401f020afb0b120f6', 'dweb:/ipfs/QmfEckWLmZkDDcoWrkEvMWhms66xwTLff9DDhegYpvHo1a']}, '@openzeppelin/contracts/interfaces/IERC5267.sol': {'keccak256': '0x92aa1df62dc3d33f1656d63bede0923e0df0b706ad4137c8b10b0a8fe549fd92', 'license': 'MIT', 'urls': ['bzz-raw://c5c0f29195ad64cbe556da8e257dac8f05f78c53f90323c0d2accf8e6922d33a', 'dweb:/ipfs/QmQ61TED8uaCZwcbh8KkgRSsCav7x7HbcGHwHts3U4DmUP']}, '@openzeppelin/contracts/interfaces/draft-IERC6093.sol': {'keccak256': '0x880da465c203cec76b10d72dbd87c80f387df4102274f23eea1f9c9b0918792b', 'license': 'MIT', 'urls': ['bzz-raw://399594cd8bb0143bc9e55e0f1d071d0d8c850a394fb7a319d50edd55d9ed822b', 'dweb:/ipfs/QmbPZzgtT6LEm9CMqWfagQFwETbV1ztpECBB1DtQHrKiRz']}, '@openzeppelin/contracts/token/ERC20/ERC20.sol': {'keccak256': '0x6ef9389a2c07bc40d8a7ba48914724ab2c108fac391ce12314f01321813e6368', 'license': 'MIT', 'urls': ['bzz-raw://b7a5cb39b1e6df68f4dd9a5e76e853d745a74ffb3dfd7df4ae4d2ace6992a171', 'dweb:/ipfs/QmPbzKR19rdM8X3PLQjsmHRepUKhvoZnedSR63XyGtXZib']}, '@openzeppelin/contracts/token/ERC20/IERC20.sol': {'keccak256': '0xe06a3f08a987af6ad2e1c1e774405d4fe08f1694b67517438b467cecf0da0ef7', 'license': 'MIT', 'urls': ['bzz-raw://df6f0c459663c9858b6cba2cda1d14a7d05a985bed6d2de72bd8e78c25ee79db', 'dweb:/ipfs/QmeTTxZ7qVk9rjEv2R4CpCwdf8UMCcRqDNMvzNxHc3Fnn9']}, '@openzeppelin/contracts/token/ERC20/extensions/ERC20Permit.sol': {'keccak256': '0xaa7f0646f49ebe2606eeca169f85c56451bbaeeeb06265fa076a03369a25d1d3', 'license': 'MIT', 'urls': ['bzz-raw://ee931d4e832385765967efe6366dcc6d00d6a2d794f9c66ee38283c03882de9c', 'dweb:/ipfs/QmR6SkuJGYxpQeLz38rBdghqaWqEPfzUsL9kBoXgEXKtbD']}, '@openzeppelin/contracts/token/ERC20/extensions/IERC20Metadata.sol': {'keccak256': '0x70f2f713b13b7ce4610bcd0ac9fec0f3cc43693b043abcb8dc40a42a726eb330', 'license': 'MIT', 'urls': ['bzz-raw://c13d13304ac79a83ab1c30168967d19e2203342ebbd6a9bbce4db7550522dcbf', 'dweb:/ipfs/QmeN5jKMN2vw5bhacr6tkg78afbTTZUeaacNHqjWt4Ew1r']}, '@openzeppelin/contracts/token/ERC20/extensions/IERC20Permit.sol': {'keccak256': '0x27dbc90e5136ffe46c04f7596fc2dbcc3acebd8d504da3d93fdb8496e6de04f6', 'license': 'MIT', 'urls': ['bzz-raw://0ea8b92e4245d75a5579c10f22f118f7b4ba07c57341f181f0b2a85ff8663de3', 'dweb:/ipfs/Qme3Ss5ByjmkxxkMdLpyu7fQ1PCtjNFH1wEFszt2BZePiG']}, '@openzeppelin/contracts/utils/Context.sol': {'keccak256': '0x493033a8d1b176a037b2cc6a04dad01a5c157722049bbecf632ca876224dd4b2', 'license': 'MIT', 'urls': ['bzz-raw://6a708e8a5bdb1011c2c381c9a5cfd8a9a956d7d0a9dc1bd8bcdaf52f76ef2f12', 'dweb:/ipfs/Qmax9WHBnVsZP46ZxEMNRQpLQnrdE4dK8LehML1Py8FowF']}, '@openzeppelin/contracts/utils/Nonces.sol': {'keccak256': '0x0082767004fca261c332e9ad100868327a863a88ef724e844857128845ab350f', 'license': 'MIT', 'urls': ['bzz-raw://132dce9686a54e025eb5ba5d2e48208f847a1ec3e60a3e527766d7bf53fb7f9e', 'dweb:/ipfs/QmXn1a2nUZMpu2z6S88UoTfMVtY2YNh86iGrzJDYmMkKeZ']}, '@openzeppelin/contracts/utils/Panic.sol': {'keccak256': '0xf7fe324703a64fc51702311dc51562d5cb1497734f074e4f483bfb6717572d7a', 'license': 'MIT', 'urls': ['bzz-raw://c6a5ff4f9fd8649b7ee20800b7fa387d3465bd77cf20c2d1068cd5c98e1ed57a', 'dweb:/ipfs/QmVSaVJf9FXFhdYEYeCEfjMVHrxDh5qL4CGkxdMWpQCrqG']}, '@openzeppelin/contracts/utils/ShortStrings.sol': {'keccak256': '0x7d94fa0af099a2172eb01f9c8a8a443cbe7e0e43654841563e4e09968efdb549', 'license': 'MIT', 'urls': ['bzz-raw://65e38fb76b6add407d4557753ae83dd1268e8261195dbe5c19a580d5ba6e4e9a', 'dweb:/ipfs/QmTkGSJtaQrqjcyWM4AgemeEmKgtDydKPPVRajsUJRQSrK']}, '@openzeppelin/contracts/utils/StorageSlot.sol': {'keccak256': '0xcf74f855663ce2ae00ed8352666b7935f6cddea2932fdf2c3ecd30a9b1cd0e97', 'license': 'MIT', 'urls': ['bzz-raw://9f660b1f351b757dfe01438e59888f31f33ded3afcf5cb5b0d9bf9aa6f320a8b', 'dweb:/ipfs/QmarDJ5hZEgBtCmmrVzEZWjub9769eD686jmzb2XpSU1cM']}, '@openzeppelin/contracts/utils/Strings.sol': {'keccak256': '0x44f87e91783e88415bde66f1a63f6c7f0076f2d511548820407d5c95643ac56c', 'license': 'MIT', 'urls': ['bzz-raw://13a51bc2b23827744dcf5bad10c69e72528cf015a6fe48c93632cdb2c0eb1251', 'dweb:/ipfs/QmZwPA47Yqgje1qtkdEFEja8ntTahMStYzKf5q3JRnaR7d']}, '@openzeppelin/contracts/utils/cryptography/ECDSA.sol': {'keccak256': '0x69f54c02b7d81d505910ec198c11ed4c6a728418a868b906b4a0cf29946fda84', 'license': 'MIT', 'urls': ['bzz-raw://8e25e4bdb7ae1f21d23bfee996e22736fc0ab44cfabedac82a757b1edc5623b9', 'dweb:/ipfs/QmQdWQvB6JCP9ZMbzi8EvQ1PTETqkcTWrbcVurS7DKpa5n']}, '@openzeppelin/contracts/utils/cryptography/EIP712.sol': {'keccak256': '0x10eb97d047f8d84fe263a02bb4a656ac6674f6679d74532cc37546289e073a9d', 'license': 'MIT', 'urls': ['bzz-raw://3e41287d40b0c46982f1083d40d32de2761f009c5c51627fe79a7feb0ab1cf5c', 'dweb:/ipfs/Qme7dbh6HX3ZvUJdbQAcVqXkmyXyfcLiUZRhhon3cU6K8p']}, '@openzeppelin/contracts/utils/cryptography/MessageHashUtils.sol': {'keccak256': '0x4515543bc4c78561f6bea83ecfdfc3dead55bd59858287d682045b11de1ae575', 'license': 'MIT', 'urls': ['bzz-raw://60601f91440125727244fffd2ba84da7caafecaae0fd887c7ccfec678e02b61e', 'dweb:/ipfs/QmZnKPBtVDiQS9Dp8gZ4sa3ZeTrWVfqF7yuUd6Y8hwm1Rs']}, '@openzeppelin/contracts/utils/math/Math.sol': {'keccak256': '0xa00be322d7db5786750ce0ac7e2f5b633ac30a5ed5fa1ced1e74acfc19acecea', 'license': 'MIT', 'urls': ['bzz-raw://6c84e822f87cbdc4082533b626667b6928715bb2b1e8e7eb96954cebb9e38c8d', 'dweb:/ipfs/QmZmy9dgxLTerBAQDuuHqbL6EpgRxddqgv5KmwpXYVbKz1']}, '@openzeppelin/contracts/utils/math/SafeCast.sol': {'keccak256': '0x195533c86d0ef72bcc06456a4f66a9b941f38eb403739b00f21fd7c1abd1ae54', 'license': 'MIT', 'urls': ['bzz-raw://b1d578337048cad08c1c03041cca5978eff5428aa130c781b271ad9e5566e1f8', 'dweb:/ipfs/QmPFKL2r9CBsMwmUqqdcFPfHZB2qcs9g1HDrPxzWSxomvy']}, '@openzeppelin/contracts/utils/math/SignedMath.sol': {'keccak256': '0xb1970fac7b64e6c09611e6691791e848d5e3fe410fa5899e7df2e0afd77a99e3', 'license': 'MIT', 'urls': ['bzz-raw://db5fbb3dddd8b7047465b62575d96231ba8a2774d37fb4737fbf23340fabbb03', 'dweb:/ipfs/QmVUSvooZKEdEdap619tcJjTLcAuH6QBdZqAzWwnAXZAWJ']}, 'contracts/test_token1.sol': {'keccak256': '0x7bc3e5e330acb562b41955449618951214e7bb5b2b6fbf387c6b9f82629293d6', 'license': 'MIT', 'urls': ['bzz-raw://bf5d937c6ded81ee0af037d35bc2a7359b2f583e3634c9d7a82571b133e2e6c5', 'dweb:/ipfs/QmZ2Zi4R8eSvMLSZNnBkJEYD4HJdMWcf8RXFggq2caimJG']}}, 'version': 1}, 'TestETH_metadata': {'compiler': {'version': '0.8.26+commit.8a97fa7a'}, 'language': 'Solidity', 'output': {'abi': [{'inputs': [{'internalType': 'address', 'name': 'initialOwner', 'type': 'address'}], 'stateMutability': 'nonpayable', 'type': 'constructor'}, {'inputs': [], 'name': 'ECDSAInvalidSignature', 'type': 'error'}, {'inputs': [{'internalType': 'uint256', 'name': 'length', 'type': 'uint256'}], 'name': 'ECDSAInvalidSignatureLength', 'type': 'error'}, {'inputs': [{'internalType': 'bytes32', 'name': 's', 'type': 'bytes32'}], 'name': 'ECDSAInvalidSignatureS', 'type': 'error'}, {'inputs': [{'internalType': 'address', 'name': 'spender', 'type': 'address'}, {'internalType': 'uint256', 'name': 'allowance', 'type': 'uint256'}, {'internalType': 'uint256', 'name': 'needed', 'type': 'uint256'}], 'name': 'ERC20InsufficientAllowance', 'type': 'error'}, {'inputs': [{'internalType': 'address', 'name': 'sender', 'type': 'address'}, {'internalType': 'uint256', 'name': 'balance', 'type': 'uint256'}, {'internalType': 'uint256', 'name': 'needed', 'type': 'uint256'}], 'name': 'ERC20InsufficientBalance', 'type': 'error'}, {'inputs': [{'internalType': 'address', 'name': 'approver', 'type': 'address'}], 'name': 'ERC20InvalidApprover', 'type': 'error'}, {'inputs': [{'internalType': 'address', 'name': 'receiver', 'type': 'address'}], 'name': 'ERC20InvalidReceiver', 'type': 'error'}, {'inputs': [{'internalType': 'address', 'name': 'sender', 'type': 'address'}], 'name': 'ERC20InvalidSender', 'type': 'error'}, {'inputs': [{'internalType': 'address', 'name': 'spender', 'type': 'address'}], 'name': 'ERC20InvalidSpender', 'type': 'error'}, {'inputs': [{'internalType': 'uint256', 'name': 'deadline', 'type': 'uint256'}], 'name': 'ERC2612ExpiredSignature', 'type': 'error'}, {'inputs': [{'internalType': 'address', 'name': 'signer', 'type': 'address'}, {'internalType': 'address', 'name': 'owner', 'type': 'address'}], 'name': 'ERC2612InvalidSigner', 'type': 'error'}, {'inputs': [{'internalType': 'address', 'name': 'account', 'type': 'address'}, {'internalType': 'uint256', 'name': 'currentNonce', 'type': 'uint256'}], 'name': 'InvalidAccountNonce', 'type': 'error'}, {'inputs': [], 'name': 'InvalidShortString', 'type': 'error'}, {'inputs': [{'internalType': 'address', 'name': 'owner', 'type': 'address'}], 'name': 'OwnableInvalidOwner', 'type': 'error'}, {'inputs': [{'internalType': 'address', 'name': 'account', 'type': 'address'}], 'name': 'OwnableUnauthorizedAccount', 'type': 'error'}, {'inputs': [{'internalType': 'string', 'name': 'str', 'type': 'string'}], 'name': 'StringTooLong', 'type': 'error'}, {'anonymous': False, 'inputs': [{'indexed': True, 'internalType': 'address', 'name': 'owner', 'type': 'address'}, {'indexed': True, 'internalType': 'address', 'name': 'spender', 'type': 'address'}, {'indexed': False, 'internalType': 'uint256', 'name': 'value', 'type': 'uint256'}], 'name': 'Approval', 'type': 'event'}, {'anonymous': False, 'inputs': [], 'name': 'EIP712DomainChanged', 'type': 'event'}, {'anonymous': False, 'inputs': [{'indexed': True, 'internalType': 'address', 'name': 'previousOwner', 'type': 'address'}, {'indexed': True, 'internalType': 'address', 'name': 'newOwner', 'type': 'address'}], 'name': 'OwnershipTransferred', 'type': 'event'}, {'anonymous': False, 'inputs': [{'indexed': True, 'internalType': 'address', 'name': 'from', 'type': 'address'}, {'indexed': True, 'internalType': 'address', 'name': 'to', 'type': 'address'}, {'indexed': False, 'internalType': 'uint256', 'name': 'value', 'type': 'uint256'}], 'name': 'Transfer', 'type': 'event'}, {'inputs': [], 'name': 'DOMAIN_SEPARATOR', 'outputs': [{'internalType': 'bytes32', 'name': '', 'type': 'bytes32'}], 'stateMutability': 'view', 'type': 'function'}, {'inputs': [{'internalType': 'address', 'name': 'owner', 'type': 'address'}, {'internalType': 'address', 'name': 'spender', 'type': 'address'}], 'name': 'allowance', 'outputs': [{'internalType': 'uint256', 'name': '', 'type': 'uint256'}], 'stateMutability': 'view', 'type': 'function'}, {'inputs': [{'internalType': 'address', 'name': 'spender', 'type': 'address'}, {'internalType': 'uint256', 'name': 'value', 'type': 'uint256'}], 'name': 'approve', 'outputs': [{'internalType': 'bool', 'name': '', 'type': 'bool'}], 'stateMutability': 'nonpayable', 'type': 'function'}, {'inputs': [{'internalType': 'address', 'name': 'account', 'type': 'address'}], 'name': 'balanceOf', 'outputs': [{'internalType': 'uint256', 'name': '', 'type': 'uint256'}], 'stateMutability': 'view', 'type': 'function'}, {'inputs': [], 'name': 'decimals', 'outputs': [{'internalType': 'uint8', 'name': '', 'type': 'uint8'}], 'stateMutability': 'view', 'type': 'function'}, {'inputs': [], 'name': 'eip712Domain', 'outputs': [{'internalType': 'bytes1', 'name': 'fields', 'type': 'bytes1'}, {'internalType': 'string', 'name': 'name', 'type': 'string'}, {'internalType': 'string', 'name': 'version', 'type': 'string'}, {'internalType': 'uint256', 'name': 'chainId', 'type': 'uint256'}, {'internalType': 'address', 'name': 'verifyingContract', 'type': 'address'}, {'internalType': 'bytes32', 'name': 'salt', 'type': 'bytes32'}, {'internalType': 'uint256[]', 'name': 'extensions', 'type': 'uint256[]'}], 'stateMutability': 'view', 'type': 'function'}, {'inputs': [{'internalType': 'address', 'name': 'to', 'type': 'address'}, {'internalType': 'uint256', 'name': 'amount', 'type': 'uint256'}], 'name': 'mint', 'outputs': [], 'stateMutability': 'nonpayable', 'type': 'function'}, {'inputs': [], 'name': 'name', 'outputs': [{'internalType': 'string', 'name': '', 'type': 'string'}], 'stateMutability': 'view', 'type': 'function'}, {'inputs': [{'internalType': 'address', 'name': 'owner', 'type': 'address'}], 'name': 'nonces', 'outputs': [{'internalType': 'uint256', 'name': '', 'type': 'uint256'}], 'stateMutability': 'view', 'type': 'function'}, {'inputs': [], 'name': 'owner', 'outputs': [{'internalType': 'address', 'name': '', 'type': 'address'}], 'stateMutability': 'view', 'type': 'function'}, {'inputs': [{'internalType': 'address', 'name': 'owner', 'type': 'address'}, {'internalType': 'address', 'name': 'spender', 'type': 'address'}, {'internalType': 'uint256', 'name': 'value', 'type': 'uint256'}, {'internalType': 'uint256', 'name': 'deadline', 'type': 'uint256'}, {'internalType': 'uint8', 'name': 'v', 'type': 'uint8'}, {'internalType': 'bytes32', 'name': 'r', 'type': 'bytes32'}, {'internalType': 'bytes32', 'name': 's', 'type': 'bytes32'}], 'name': 'permit', 'outputs': [], 'stateMutability': 'nonpayable', 'type': 'function'}, {'inputs': [], 'name': 'renounceOwnership', 'outputs': [], 'stateMutability': 'nonpayable', 'type': 'function'}, {'inputs': [], 'name': 'symbol', 'outputs': [{'internalType': 'string', 'name': '', 'type': 'string'}], 'stateMutability': 'view', 'type': 'function'}, {'inputs': [], 'name': 'totalSupply', 'outputs': [{'internalType': 'uint256', 'name': '', 'type': 'uint256'}], 'stateMutability': 'view', 'type': 'function'}, {'inputs': [{'internalType': 'address', 'name': 'to', 'type': 'address'}, {'internalType': 'uint256', 'name': 'value', 'type': 'uint256'}], 'name': 'transfer', 'outputs': [{'internalType': 'bool', 'name': '', 'type': 'bool'}], 'stateMutability': 'nonpayable', 'type': 'function'}, {'inputs': [{'internalType': 'address', 'name': 'from', 'type': 'address'}, {'internalType': 'address', 'name': 'to', 'type': 'address'}, {'internalType': 'uint256', 'name': 'value', 'type': 'uint256'}], 'name': 'transferFrom', 'outputs': [{'internalType': 'bool', 'name': '', 'type': 'bool'}], 'stateMutability': 'nonpayable', 'type': 'function'}, {'inputs': [{'internalType': 'address', 'name': 'newOwner', 'type': 'address'}], 'name': 'transferOwnership', 'outputs': [], 'stateMutability': 'nonpayable', 'type': 'function'}], 'devdoc': {'errors': {'ECDSAInvalidSignature()': [{'details': 'The signature derives the `address(0)`.'}], 'ECDSAInvalidSignatureLength(uint256)': [{'details': 'The signature has an invalid length.'}], 'ECDSAInvalidSignatureS(bytes32)': [{'details': 'The signature has an S value that is in the upper half order.'}], 'ERC20InsufficientAllowance(address,uint256,uint256)': [{'details': 'Indicates a failure with the `spender`â€™s `allowance`. Used in transfers.', 'params': {'allowance': 'Amount of tokens a `spender` is allowed to operate with.', 'needed': 'Minimum amount required to perform a transfer.', 'spender': 'Address that may be allowed to operate on tokens without being their owner.'}}], 'ERC20InsufficientBalance(address,uint256,uint256)': [{'details': 'Indicates an error related to the current `balance` of a `sender`. Used in transfers.', 'params': {'balance': 'Current balance for the interacting account.', 'needed': 'Minimum amount required to perform a transfer.', 'sender': 'Address whose tokens are being transferred.'}}], 'ERC20InvalidApprover(address)': [{'details': 'Indicates a failure with the `approver` of a token to be approved. Used in approvals.', 'params': {'approver': 'Address initiating an approval operation.'}}], 'ERC20InvalidReceiver(address)': [{'details': 'Indicates a failure with the token `receiver`. Used in transfers.', 'params': {'receiver': 'Address to which tokens are being transferred.'}}], 'ERC20InvalidSender(address)': [{'details': 'Indicates a failure with the token `sender`. Used in transfers.', 'params': {'sender': 'Address whose tokens are being transferred.'}}], 'ERC20InvalidSpender(address)': [{'details': 'Indicates a failure with the `spender` to be approved. Used in approvals.', 'params': {'spender': 'Address that may be allowed to operate on tokens without being their owner.'}}], 'ERC2612ExpiredSignature(uint256)': [{'details': 'Permit deadline has expired.'}], 'ERC2612InvalidSigner(address,address)': [{'details': 'Mismatched signature.'}], 'InvalidAccountNonce(address,uint256)': [{'details': 'The nonce used for an `account` is not the expected current nonce.'}], 'OwnableInvalidOwner(address)': [{'details': 'The owner is not a valid owner account. (eg. `address(0)`)'}], 'OwnableUnauthorizedAccount(address)': [{'details': 'The caller account is not authorized to perform an operation.'}]}, 'events': {'Approval(address,address,uint256)': {'details': 'Emitted when the allowance of a `spender` for an `owner` is set by a call to {approve}. `value` is the new allowance.'}, 'EIP712DomainChanged()': {'details': 'MAY be emitted to signal that the domain could have changed.'}, 'Transfer(address,address,uint256)': {'details': 'Emitted when `value` tokens are moved from one account (`from`) to another (`to`). Note that `value` may be zero.'}}, 'kind': 'dev', 'methods': {'DOMAIN_SEPARATOR()': {'details': 'Returns the domain separator used in the encoding of the signature for {permit}, as defined by {EIP712}.'}, 'allowance(address,address)': {'details': 'See {IERC20-allowance}.'}, 'approve(address,uint256)': {'details': 'See {IERC20-approve}. NOTE: If `value` is the maximum `uint256`, the allowance is not updated on `transferFrom`. This is semantically equivalent to an infinite approval. Requirements: - `spender` cannot be the zero address.'}, 'balanceOf(address)': {'details': 'See {IERC20-balanceOf}.'}, 'decimals()': {'details': \"Returns the number of decimals used to get its user representation. For example, if `decimals` equals `2`, a balance of `505` tokens should be displayed to a user as `5.05` (`505 / 10 ** 2`). Tokens usually opt for a value of 18, imitating the relationship between Ether and Wei. This is the default value returned by this function, unless it's overridden. NOTE: This information is only used for _display_ purposes: it in no way affects any of the arithmetic of the contract, including {IERC20-balanceOf} and {IERC20-transfer}.\"}, 'eip712Domain()': {'details': 'See {IERC-5267}.'}, 'name()': {'details': 'Returns the name of the token.'}, 'nonces(address)': {'details': \"Returns the current nonce for `owner`. This value must be included whenever a signature is generated for {permit}. Every successful call to {permit} increases ``owner``'s nonce by one. This prevents a signature from being used multiple times.\"}, 'owner()': {'details': 'Returns the address of the current owner.'}, 'permit(address,address,uint256,uint256,uint8,bytes32,bytes32)': {'details': \"Sets `value` as the allowance of `spender` over ``owner``'s tokens, given ``owner``'s signed approval. IMPORTANT: The same issues {IERC20-approve} has related to transaction ordering also apply here. Emits an {Approval} event. Requirements: - `spender` cannot be the zero address. - `deadline` must be a timestamp in the future. - `v`, `r` and `s` must be a valid `secp256k1` signature from `owner` over the EIP712-formatted function arguments. - the signature must use ``owner``'s current nonce (see {nonces}). For more information on the signature format, see the https://eips.ethereum.org/EIPS/eip-2612#specification[relevant EIP section]. CAUTION: See Security Considerations above.\"}, 'renounceOwnership()': {'details': 'Leaves the contract without owner. It will not be possible to call `onlyOwner` functions. Can only be called by the current owner. NOTE: Renouncing ownership will leave the contract without an owner, thereby disabling any functionality that is only available to the owner.'}, 'symbol()': {'details': 'Returns the symbol of the token, usually a shorter version of the name.'}, 'totalSupply()': {'details': 'See {IERC20-totalSupply}.'}, 'transfer(address,uint256)': {'details': 'See {IERC20-transfer}. Requirements: - `to` cannot be the zero address. - the caller must have a balance of at least `value`.'}, 'transferFrom(address,address,uint256)': {'details': \"See {IERC20-transferFrom}. Skips emitting an {Approval} event indicating an allowance update. This is not required by the ERC. See {xref-ERC20-_approve-address-address-uint256-bool-}[_approve]. NOTE: Does not update the allowance if the current allowance is the maximum `uint256`. Requirements: - `from` and `to` cannot be the zero address. - `from` must have a balance of at least `value`. - the caller must have allowance for ``from``'s tokens of at least `value`.\"}, 'transferOwnership(address)': {'details': 'Transfers ownership of the contract to a new account (`newOwner`). Can only be called by the current owner.'}}, 'version': 1}, 'userdoc': {'kind': 'user', 'methods': {}, 'version': 1}}, 'settings': {'compilationTarget': {'contracts/test_token2.sol': 'TestETH'}, 'evmVersion': 'cancun', 'libraries': {}, 'metadata': {'bytecodeHash': 'ipfs'}, 'optimizer': {'enabled': True, 'runs': 200}, 'remappings': []}, 'sources': {'@openzeppelin/contracts/access/Ownable.sol': {'keccak256': '0xff6d0bb2e285473e5311d9d3caacb525ae3538a80758c10649a4d61029b017bb', 'license': 'MIT', 'urls': ['bzz-raw://8ed324d3920bb545059d66ab97d43e43ee85fd3bd52e03e401f020afb0b120f6', 'dweb:/ipfs/QmfEckWLmZkDDcoWrkEvMWhms66xwTLff9DDhegYpvHo1a']}, '@openzeppelin/contracts/interfaces/IERC5267.sol': {'keccak256': '0x92aa1df62dc3d33f1656d63bede0923e0df0b706ad4137c8b10b0a8fe549fd92', 'license': 'MIT', 'urls': ['bzz-raw://c5c0f29195ad64cbe556da8e257dac8f05f78c53f90323c0d2accf8e6922d33a', 'dweb:/ipfs/QmQ61TED8uaCZwcbh8KkgRSsCav7x7HbcGHwHts3U4DmUP']}, '@openzeppelin/contracts/interfaces/draft-IERC6093.sol': {'keccak256': '0x880da465c203cec76b10d72dbd87c80f387df4102274f23eea1f9c9b0918792b', 'license': 'MIT', 'urls': ['bzz-raw://399594cd8bb0143bc9e55e0f1d071d0d8c850a394fb7a319d50edd55d9ed822b', 'dweb:/ipfs/QmbPZzgtT6LEm9CMqWfagQFwETbV1ztpECBB1DtQHrKiRz']}, '@openzeppelin/contracts/token/ERC20/ERC20.sol': {'keccak256': '0x6ef9389a2c07bc40d8a7ba48914724ab2c108fac391ce12314f01321813e6368', 'license': 'MIT', 'urls': ['bzz-raw://b7a5cb39b1e6df68f4dd9a5e76e853d745a74ffb3dfd7df4ae4d2ace6992a171', 'dweb:/ipfs/QmPbzKR19rdM8X3PLQjsmHRepUKhvoZnedSR63XyGtXZib']}, '@openzeppelin/contracts/token/ERC20/IERC20.sol': {'keccak256': '0xe06a3f08a987af6ad2e1c1e774405d4fe08f1694b67517438b467cecf0da0ef7', 'license': 'MIT', 'urls': ['bzz-raw://df6f0c459663c9858b6cba2cda1d14a7d05a985bed6d2de72bd8e78c25ee79db', 'dweb:/ipfs/QmeTTxZ7qVk9rjEv2R4CpCwdf8UMCcRqDNMvzNxHc3Fnn9']}, '@openzeppelin/contracts/token/ERC20/extensions/ERC20Permit.sol': {'keccak256': '0xaa7f0646f49ebe2606eeca169f85c56451bbaeeeb06265fa076a03369a25d1d3', 'license': 'MIT', 'urls': ['bzz-raw://ee931d4e832385765967efe6366dcc6d00d6a2d794f9c66ee38283c03882de9c', 'dweb:/ipfs/QmR6SkuJGYxpQeLz38rBdghqaWqEPfzUsL9kBoXgEXKtbD']}, '@openzeppelin/contracts/token/ERC20/extensions/IERC20Metadata.sol': {'keccak256': '0x70f2f713b13b7ce4610bcd0ac9fec0f3cc43693b043abcb8dc40a42a726eb330', 'license': 'MIT', 'urls': ['bzz-raw://c13d13304ac79a83ab1c30168967d19e2203342ebbd6a9bbce4db7550522dcbf', 'dweb:/ipfs/QmeN5jKMN2vw5bhacr6tkg78afbTTZUeaacNHqjWt4Ew1r']}, '@openzeppelin/contracts/token/ERC20/extensions/IERC20Permit.sol': {'keccak256': '0x27dbc90e5136ffe46c04f7596fc2dbcc3acebd8d504da3d93fdb8496e6de04f6', 'license': 'MIT', 'urls': ['bzz-raw://0ea8b92e4245d75a5579c10f22f118f7b4ba07c57341f181f0b2a85ff8663de3', 'dweb:/ipfs/Qme3Ss5ByjmkxxkMdLpyu7fQ1PCtjNFH1wEFszt2BZePiG']}, '@openzeppelin/contracts/utils/Context.sol': {'keccak256': '0x493033a8d1b176a037b2cc6a04dad01a5c157722049bbecf632ca876224dd4b2', 'license': 'MIT', 'urls': ['bzz-raw://6a708e8a5bdb1011c2c381c9a5cfd8a9a956d7d0a9dc1bd8bcdaf52f76ef2f12', 'dweb:/ipfs/Qmax9WHBnVsZP46ZxEMNRQpLQnrdE4dK8LehML1Py8FowF']}, '@openzeppelin/contracts/utils/Nonces.sol': {'keccak256': '0x0082767004fca261c332e9ad100868327a863a88ef724e844857128845ab350f', 'license': 'MIT', 'urls': ['bzz-raw://132dce9686a54e025eb5ba5d2e48208f847a1ec3e60a3e527766d7bf53fb7f9e', 'dweb:/ipfs/QmXn1a2nUZMpu2z6S88UoTfMVtY2YNh86iGrzJDYmMkKeZ']}, '@openzeppelin/contracts/utils/Panic.sol': {'keccak256': '0xf7fe324703a64fc51702311dc51562d5cb1497734f074e4f483bfb6717572d7a', 'license': 'MIT', 'urls': ['bzz-raw://c6a5ff4f9fd8649b7ee20800b7fa387d3465bd77cf20c2d1068cd5c98e1ed57a', 'dweb:/ipfs/QmVSaVJf9FXFhdYEYeCEfjMVHrxDh5qL4CGkxdMWpQCrqG']}, '@openzeppelin/contracts/utils/ShortStrings.sol': {'keccak256': '0x7d94fa0af099a2172eb01f9c8a8a443cbe7e0e43654841563e4e09968efdb549', 'license': 'MIT', 'urls': ['bzz-raw://65e38fb76b6add407d4557753ae83dd1268e8261195dbe5c19a580d5ba6e4e9a', 'dweb:/ipfs/QmTkGSJtaQrqjcyWM4AgemeEmKgtDydKPPVRajsUJRQSrK']}, '@openzeppelin/contracts/utils/StorageSlot.sol': {'keccak256': '0xcf74f855663ce2ae00ed8352666b7935f6cddea2932fdf2c3ecd30a9b1cd0e97', 'license': 'MIT', 'urls': ['bzz-raw://9f660b1f351b757dfe01438e59888f31f33ded3afcf5cb5b0d9bf9aa6f320a8b', 'dweb:/ipfs/QmarDJ5hZEgBtCmmrVzEZWjub9769eD686jmzb2XpSU1cM']}, '@openzeppelin/contracts/utils/Strings.sol': {'keccak256': '0x44f87e91783e88415bde66f1a63f6c7f0076f2d511548820407d5c95643ac56c', 'license': 'MIT', 'urls': ['bzz-raw://13a51bc2b23827744dcf5bad10c69e72528cf015a6fe48c93632cdb2c0eb1251', 'dweb:/ipfs/QmZwPA47Yqgje1qtkdEFEja8ntTahMStYzKf5q3JRnaR7d']}, '@openzeppelin/contracts/utils/cryptography/ECDSA.sol': {'keccak256': '0x69f54c02b7d81d505910ec198c11ed4c6a728418a868b906b4a0cf29946fda84', 'license': 'MIT', 'urls': ['bzz-raw://8e25e4bdb7ae1f21d23bfee996e22736fc0ab44cfabedac82a757b1edc5623b9', 'dweb:/ipfs/QmQdWQvB6JCP9ZMbzi8EvQ1PTETqkcTWrbcVurS7DKpa5n']}, '@openzeppelin/contracts/utils/cryptography/EIP712.sol': {'keccak256': '0x10eb97d047f8d84fe263a02bb4a656ac6674f6679d74532cc37546289e073a9d', 'license': 'MIT', 'urls': ['bzz-raw://3e41287d40b0c46982f1083d40d32de2761f009c5c51627fe79a7feb0ab1cf5c', 'dweb:/ipfs/Qme7dbh6HX3ZvUJdbQAcVqXkmyXyfcLiUZRhhon3cU6K8p']}, '@openzeppelin/contracts/utils/cryptography/MessageHashUtils.sol': {'keccak256': '0x4515543bc4c78561f6bea83ecfdfc3dead55bd59858287d682045b11de1ae575', 'license': 'MIT', 'urls': ['bzz-raw://60601f91440125727244fffd2ba84da7caafecaae0fd887c7ccfec678e02b61e', 'dweb:/ipfs/QmZnKPBtVDiQS9Dp8gZ4sa3ZeTrWVfqF7yuUd6Y8hwm1Rs']}, '@openzeppelin/contracts/utils/math/Math.sol': {'keccak256': '0xa00be322d7db5786750ce0ac7e2f5b633ac30a5ed5fa1ced1e74acfc19acecea', 'license': 'MIT', 'urls': ['bzz-raw://6c84e822f87cbdc4082533b626667b6928715bb2b1e8e7eb96954cebb9e38c8d', 'dweb:/ipfs/QmZmy9dgxLTerBAQDuuHqbL6EpgRxddqgv5KmwpXYVbKz1']}, '@openzeppelin/contracts/utils/math/SafeCast.sol': {'keccak256': '0x195533c86d0ef72bcc06456a4f66a9b941f38eb403739b00f21fd7c1abd1ae54', 'license': 'MIT', 'urls': ['bzz-raw://b1d578337048cad08c1c03041cca5978eff5428aa130c781b271ad9e5566e1f8', 'dweb:/ipfs/QmPFKL2r9CBsMwmUqqdcFPfHZB2qcs9g1HDrPxzWSxomvy']}, '@openzeppelin/contracts/utils/math/SignedMath.sol': {'keccak256': '0xb1970fac7b64e6c09611e6691791e848d5e3fe410fa5899e7df2e0afd77a99e3', 'license': 'MIT', 'urls': ['bzz-raw://db5fbb3dddd8b7047465b62575d96231ba8a2774d37fb4737fbf23340fabbb03', 'dweb:/ipfs/QmVUSvooZKEdEdap619tcJjTLcAuH6QBdZqAzWwnAXZAWJ']}, 'contracts/test_token2.sol': {'keccak256': '0x4decb5cea5437e3c318ef096499bfca8d73c922c49317077fdadc2323690f817', 'license': 'MIT', 'urls': ['bzz-raw://92b1467139c870c5b5c4d0c3dd1b7d1449db901299695d4fe1f4c9129d3af1a3', 'dweb:/ipfs/QmPBiaBUq6p6NBNTSTp78HBzNL5g7NEdGRnQ224aaGvPgW']}}, 'version': 1}, 'YieldVault_metadata': {'compiler': {'version': '0.8.26+commit.8a97fa7a'}, 'language': 'Solidity', 'output': {'abi': [{'inputs': [{'internalType': 'address', 'name': '_liquidStaking', 'type': 'address'}, {'internalType': 'address', 'name': '_gasReserve', 'type': 'address'}], 'stateMutability': 'nonpayable', 'type': 'constructor'}, {'inputs': [{'internalType': 'address', 'name': 'spender', 'type': 'address'}, {'internalType': 'uint256', 'name': 'allowance', 'type': 'uint256'}, {'internalType': 'uint256', 'name': 'needed', 'type': 'uint256'}], 'name': 'ERC20InsufficientAllowance', 'type': 'error'}, {'inputs': [{'internalType': 'address', 'name': 'sender', 'type': 'address'}, {'internalType': 'uint256', 'name': 'balance', 'type': 'uint256'}, {'internalType': 'uint256', 'name': 'needed', 'type': 'uint256'}], 'name': 'ERC20InsufficientBalance', 'type': 'error'}, {'inputs': [{'internalType': 'address', 'name': 'approver', 'type': 'address'}], 'name': 'ERC20InvalidApprover', 'type': 'error'}, {'inputs': [{'internalType': 'address', 'name': 'receiver', 'type': 'address'}], 'name': 'ERC20InvalidReceiver', 'type': 'error'}, {'inputs': [{'internalType': 'address', 'name': 'sender', 'type': 'address'}], 'name': 'ERC20InvalidSender', 'type': 'error'}, {'inputs': [{'internalType': 'address', 'name': 'spender', 'type': 'address'}], 'name': 'ERC20InvalidSpender', 'type': 'error'}, {'inputs': [{'internalType': 'address', 'name': 'owner', 'type': 'address'}], 'name': 'OwnableInvalidOwner', 'type': 'error'}, {'inputs': [{'internalType': 'address', 'name': 'account', 'type': 'address'}], 'name': 'OwnableUnauthorizedAccount', 'type': 'error'}, {'anonymous': False, 'inputs': [{'indexed': True, 'internalType': 'address', 'name': 'owner', 'type': 'address'}, {'indexed': True, 'internalType': 'address', 'name': 'spender', 'type': 'address'}, {'indexed': False, 'internalType': 'uint256', 'name': 'value', 'type': 'uint256'}], 'name': 'Approval', 'type': 'event'}, {'anonymous': False, 'inputs': [{'indexed': True, 'internalType': 'address', 'name': 'previousOwner', 'type': 'address'}, {'indexed': True, 'internalType': 'address', 'name': 'newOwner', 'type': 'address'}], 'name': 'OwnershipTransferred', 'type': 'event'}, {'anonymous': False, 'inputs': [{'indexed': True, 'internalType': 'address', 'name': 'from', 'type': 'address'}, {'indexed': True, 'internalType': 'address', 'name': 'to', 'type': 'address'}, {'indexed': False, 'internalType': 'uint256', 'name': 'value', 'type': 'uint256'}], 'name': 'Transfer', 'type': 'event'}, {'inputs': [{'internalType': 'address', 'name': 'owner', 'type': 'address'}, {'internalType': 'address', 'name': 'spender', 'type': 'address'}], 'name': 'allowance', 'outputs': [{'internalType': 'uint256', 'name': '', 'type': 'uint256'}], 'stateMutability': 'view', 'type': 'function'}, {'inputs': [{'internalType': 'address', 'name': 'spender', 'type': 'address'}, {'internalType': 'uint256', 'name': 'value', 'type': 'uint256'}], 'name': 'approve', 'outputs': [{'internalType': 'bool', 'name': '', 'type': 'bool'}], 'stateMutability': 'nonpayable', 'type': 'function'}, {'inputs': [{'internalType': 'address', 'name': 'account', 'type': 'address'}], 'name': 'balanceOf', 'outputs': [{'internalType': 'uint256', 'name': '', 'type': 'uint256'}], 'stateMutability': 'view', 'type': 'function'}, {'inputs': [], 'name': 'decimals', 'outputs': [{'internalType': 'uint8', 'name': '', 'type': 'uint8'}], 'stateMutability': 'view', 'type': 'function'}, {'inputs': [], 'name': 'deposit', 'outputs': [], 'stateMutability': 'payable', 'type': 'function'}, {'inputs': [{'internalType': 'address', 'name': 'user', 'type': 'address'}], 'name': 'earned', 'outputs': [{'internalType': 'uint256', 'name': '', 'type': 'uint256'}], 'stateMutability': 'view', 'type': 'function'}, {'inputs': [], 'name': 'gasReserve', 'outputs': [{'internalType': 'contract IGasReserve', 'name': '', 'type': 'address'}], 'stateMutability': 'view', 'type': 'function'}, {'inputs': [{'internalType': 'uint256', 'name': 'gasAmount', 'type': 'uint256'}], 'name': 'harvest', 'outputs': [], 'stateMutability': 'nonpayable', 'type': 'function'}, {'inputs': [], 'name': 'lastHarvestTime', 'outputs': [{'internalType': 'uint256', 'name': '', 'type': 'uint256'}], 'stateMutability': 'view', 'type': 'function'}, {'inputs': [], 'name': 'name', 'outputs': [{'internalType': 'string', 'name': '', 'type': 'string'}], 'stateMutability': 'view', 'type': 'function'}, {'inputs': [], 'name': 'owner', 'outputs': [{'internalType': 'address', 'name': '', 'type': 'address'}], 'stateMutability': 'view', 'type': 'function'}, {'inputs': [], 'name': 'renounceOwnership', 'outputs': [], 'stateMutability': 'nonpayable', 'type': 'function'}, {'inputs': [], 'name': 'stETH', 'outputs': [{'internalType': 'contract IERC20', 'name': '', 'type': 'address'}], 'stateMutability': 'view', 'type': 'function'}, {'inputs': [], 'name': 'symbol', 'outputs': [{'internalType': 'string', 'name': '', 'type': 'string'}], 'stateMutability': 'view', 'type': 'function'}, {'inputs': [], 'name': 'totalRewardsDistributed', 'outputs': [{'internalType': 'uint256', 'name': '', 'type': 'uint256'}], 'stateMutability': 'view', 'type': 'function'}, {'inputs': [], 'name': 'totalSupply', 'outputs': [{'internalType': 'uint256', 'name': '', 'type': 'uint256'}], 'stateMutability': 'view', 'type': 'function'}, {'inputs': [{'internalType': 'address', 'name': 'to', 'type': 'address'}, {'internalType': 'uint256', 'name': 'value', 'type': 'uint256'}], 'name': 'transfer', 'outputs': [{'internalType': 'bool', 'name': '', 'type': 'bool'}], 'stateMutability': 'nonpayable', 'type': 'function'}, {'inputs': [{'internalType': 'address', 'name': 'from', 'type': 'address'}, {'internalType': 'address', 'name': 'to', 'type': 'address'}, {'internalType': 'uint256', 'name': 'value', 'type': 'uint256'}], 'name': 'transferFrom', 'outputs': [{'internalType': 'bool', 'name': '', 'type': 'bool'}], 'stateMutability': 'nonpayable', 'type': 'function'}, {'inputs': [{'internalType': 'address', 'name': 'newOwner', 'type': 'address'}], 'name': 'transferOwnership', 'outputs': [], 'stateMutability': 'nonpayable', 'type': 'function'}, {'inputs': [{'internalType': 'uint256', 'name': '_amount', 'type': 'uint256'}], 'name': 'withdraw', 'outputs': [], 'stateMutability': 'nonpayable', 'type': 'function'}, {'stateMutability': 'payable', 'type': 'receive'}], 'devdoc': {'errors': {'ERC20InsufficientAllowance(address,uint256,uint256)': [{'details': 'Indicates a failure with the `spender`â€™s `allowance`. Used in transfers.', 'params': {'allowance': 'Amount of tokens a `spender` is allowed to operate with.', 'needed': 'Minimum amount required to perform a transfer.', 'spender': 'Address that may be allowed to operate on tokens without being their owner.'}}], 'ERC20InsufficientBalance(address,uint256,uint256)': [{'details': 'Indicates an error related to the current `balance` of a `sender`. Used in transfers.', 'params': {'balance': 'Current balance for the interacting account.', 'needed': 'Minimum amount required to perform a transfer.', 'sender': 'Address whose tokens are being transferred.'}}], 'ERC20InvalidApprover(address)': [{'details': 'Indicates a failure with the `approver` of a token to be approved. Used in approvals.', 'params': {'approver': 'Address initiating an approval operation.'}}], 'ERC20InvalidReceiver(address)': [{'details': 'Indicates a failure with the token `receiver`. Used in transfers.', 'params': {'receiver': 'Address to which tokens are being transferred.'}}], 'ERC20InvalidSender(address)': [{'details': 'Indicates a failure with the token `sender`. Used in transfers.', 'params': {'sender': 'Address whose tokens are being transferred.'}}], 'ERC20InvalidSpender(address)': [{'details': 'Indicates a failure with the `spender` to be approved. Used in approvals.', 'params': {'spender': 'Address that may be allowed to operate on tokens without being their owner.'}}], 'OwnableInvalidOwner(address)': [{'details': 'The owner is not a valid owner account. (eg. `address(0)`)'}], 'OwnableUnauthorizedAccount(address)': [{'details': 'The caller account is not authorized to perform an operation.'}]}, 'events': {'Approval(address,address,uint256)': {'details': 'Emitted when the allowance of a `spender` for an `owner` is set by a call to {approve}. `value` is the new allowance.'}, 'Transfer(address,address,uint256)': {'details': 'Emitted when `value` tokens are moved from one account (`from`) to another (`to`). Note that `value` may be zero.'}}, 'kind': 'dev', 'methods': {'allowance(address,address)': {'details': 'See {IERC20-allowance}.'}, 'approve(address,uint256)': {'details': 'See {IERC20-approve}. NOTE: If `value` is the maximum `uint256`, the allowance is not updated on `transferFrom`. This is semantically equivalent to an infinite approval. Requirements: - `spender` cannot be the zero address.'}, 'balanceOf(address)': {'details': 'See {IERC20-balanceOf}.'}, 'decimals()': {'details': \"Returns the number of decimals used to get its user representation. For example, if `decimals` equals `2`, a balance of `505` tokens should be displayed to a user as `5.05` (`505 / 10 ** 2`). Tokens usually opt for a value of 18, imitating the relationship between Ether and Wei. This is the default value returned by this function, unless it's overridden. NOTE: This information is only used for _display_ purposes: it in no way affects any of the arithmetic of the contract, including {IERC20-balanceOf} and {IERC20-transfer}.\"}, 'name()': {'details': 'Returns the name of the token.'}, 'owner()': {'details': 'Returns the address of the current owner.'}, 'renounceOwnership()': {'details': 'Leaves the contract without owner. It will not be possible to call `onlyOwner` functions. Can only be called by the current owner. NOTE: Renouncing ownership will leave the contract without an owner, thereby disabling any functionality that is only available to the owner.'}, 'symbol()': {'details': 'Returns the symbol of the token, usually a shorter version of the name.'}, 'totalSupply()': {'details': 'See {IERC20-totalSupply}.'}, 'transfer(address,uint256)': {'details': 'See {IERC20-transfer}. Requirements: - `to` cannot be the zero address. - the caller must have a balance of at least `value`.'}, 'transferFrom(address,address,uint256)': {'details': \"See {IERC20-transferFrom}. Skips emitting an {Approval} event indicating an allowance update. This is not required by the ERC. See {xref-ERC20-_approve-address-address-uint256-bool-}[_approve]. NOTE: Does not update the allowance if the current allowance is the maximum `uint256`. Requirements: - `from` and `to` cannot be the zero address. - `from` must have a balance of at least `value`. - the caller must have allowance for ``from``'s tokens of at least `value`.\"}, 'transferOwnership(address)': {'details': 'Transfers ownership of the contract to a new account (`newOwner`). Can only be called by the current owner.'}}, 'version': 1}, 'userdoc': {'kind': 'user', 'methods': {}, 'version': 1}}, 'settings': {'compilationTarget': {'contracts/vault.sol': 'YieldVault'}, 'evmVersion': 'cancun', 'libraries': {}, 'metadata': {'bytecodeHash': 'ipfs'}, 'optimizer': {'enabled': True, 'runs': 200}, 'remappings': []}, 'sources': {'@openzeppelin/contracts/access/Ownable.sol': {'keccak256': '0xff6d0bb2e285473e5311d9d3caacb525ae3538a80758c10649a4d61029b017bb', 'license': 'MIT', 'urls': ['bzz-raw://8ed324d3920bb545059d66ab97d43e43ee85fd3bd52e03e401f020afb0b120f6', 'dweb:/ipfs/QmfEckWLmZkDDcoWrkEvMWhms66xwTLff9DDhegYpvHo1a']}, '@openzeppelin/contracts/interfaces/draft-IERC6093.sol': {'keccak256': '0x880da465c203cec76b10d72dbd87c80f387df4102274f23eea1f9c9b0918792b', 'license': 'MIT', 'urls': ['bzz-raw://399594cd8bb0143bc9e55e0f1d071d0d8c850a394fb7a319d50edd55d9ed822b', 'dweb:/ipfs/QmbPZzgtT6LEm9CMqWfagQFwETbV1ztpECBB1DtQHrKiRz']}, '@openzeppelin/contracts/token/ERC20/ERC20.sol': {'keccak256': '0x6ef9389a2c07bc40d8a7ba48914724ab2c108fac391ce12314f01321813e6368', 'license': 'MIT', 'urls': ['bzz-raw://b7a5cb39b1e6df68f4dd9a5e76e853d745a74ffb3dfd7df4ae4d2ace6992a171', 'dweb:/ipfs/QmPbzKR19rdM8X3PLQjsmHRepUKhvoZnedSR63XyGtXZib']}, '@openzeppelin/contracts/token/ERC20/IERC20.sol': {'keccak256': '0xe06a3f08a987af6ad2e1c1e774405d4fe08f1694b67517438b467cecf0da0ef7', 'license': 'MIT', 'urls': ['bzz-raw://df6f0c459663c9858b6cba2cda1d14a7d05a985bed6d2de72bd8e78c25ee79db', 'dweb:/ipfs/QmeTTxZ7qVk9rjEv2R4CpCwdf8UMCcRqDNMvzNxHc3Fnn9']}, '@openzeppelin/contracts/token/ERC20/extensions/IERC20Metadata.sol': {'keccak256': '0x70f2f713b13b7ce4610bcd0ac9fec0f3cc43693b043abcb8dc40a42a726eb330', 'license': 'MIT', 'urls': ['bzz-raw://c13d13304ac79a83ab1c30168967d19e2203342ebbd6a9bbce4db7550522dcbf', 'dweb:/ipfs/QmeN5jKMN2vw5bhacr6tkg78afbTTZUeaacNHqjWt4Ew1r']}, '@openzeppelin/contracts/utils/Context.sol': {'keccak256': '0x493033a8d1b176a037b2cc6a04dad01a5c157722049bbecf632ca876224dd4b2', 'license': 'MIT', 'urls': ['bzz-raw://6a708e8a5bdb1011c2c381c9a5cfd8a9a956d7d0a9dc1bd8bcdaf52f76ef2f12', 'dweb:/ipfs/Qmax9WHBnVsZP46ZxEMNRQpLQnrdE4dK8LehML1Py8FowF']}, 'contracts/vault.sol': {'keccak256': '0xc8adff169373aadcd7b767a816ced188afea48bf1874139d4e01272425c55598', 'license': 'MIT', 'urls': ['bzz-raw://38251b2988a31484e71cbe8d7612575ec0a6eee892b5921b9b245a57f3553c1e', 'dweb:/ipfs/QmXLXr2JvaHNyFhvMCkyWtY2XoFV5Cn9SqXuSrXAhwT5bS']}}, 'version': 1}}\n"
     ]
    }
   ],
   "source": [
    "abi_path = r'gas_accountant_contracts\\contracts\\artifacts'\n",
    "abi_paths = []  # Assuming GAS_ACCOUNTANT_ABI_PATH is predefined\n",
    "\n",
    "for file in os.listdir(abi_path):\n",
    "    if file.endswith('.json') and \"metadata\" in file:  # Exclude metadata files\n",
    "        abi_paths.append(os.path.join(abi_path, file))  # Add full path\n",
    "\n",
    "print(abi_paths)  # Debug: Check the final list\n",
    "\n",
    "abis = {}\n",
    "\n",
    "for path in abi_paths:\n",
    "    filename = os.path.basename(path)  # Extract filename (e.g., \"YieldVault.json\")\n",
    "    name = os.path.splitext(filename)[0]  # Remove .json extension (e.g., \"YieldVault\")\n",
    "\n",
    "    with open(path, \"r\") as file:\n",
    "        abis[name] = json.load(file)  # Use name as key\n",
    "\n",
    "print(abis)  # Debug output"
   ]
  },
  {
   "cell_type": "code",
   "execution_count": 6,
   "metadata": {},
   "outputs": [],
   "source": [
    "def get_token_price(token='0xc02aaa39b223fe8d0a0e5c4f27ead9083c756cc2'):\n",
    "    url = f\"https://api.coingecko.com/api/v3/simple/token_price/ethereum?contract_addresses={token}&vs_currencies=usd\"\n",
    "\n",
    "    headers = {\n",
    "        \"accept\": \"application/json\",\n",
    "        \"x-cg-demo-api-key\": COINGECKO_API_KEY\n",
    "    }\n",
    "\n",
    "    response = requests.get(url, headers=headers)\n",
    "\n",
    "    \n",
    "\n",
    "    eth_data = response.json()\n",
    "\n",
    "    eth_df = pd.DataFrame(eth_data)\n",
    "    eth_usd = eth_df[f'{token}'].values[0]\n",
    "\n",
    "    print(eth_usd)\n",
    "\n",
    "    return eth_usd"
   ]
  },
  {
   "cell_type": "code",
   "execution_count": 7,
   "metadata": {},
   "outputs": [],
   "source": [
    "W3_BOT1 = Web3(Web3.HTTPProvider(SEPOLIA_GATEWAY))\n",
    "\n",
    "ACCOUNT_BOT_1 = Account.from_key(BOT_1_KEY)\n",
    "\n",
    "W3_BOT1.eth.default_account = ACCOUNT_BOT_1.address\n",
    "W3_BOT1.middleware_onion.inject(geth_poa_middleware, layer=0)"
   ]
  },
  {
   "cell_type": "code",
   "execution_count": 8,
   "metadata": {},
   "outputs": [
    {
     "name": "stdout",
     "output_type": "stream",
     "text": [
      "✅ Web3 Connection Check: True\n",
      "✅ Using Account: 0x2102240d1A36a9DC9F3A4d07eE9251cb723ACa89\n",
      "✅ Next Nonce: 83\n"
     ]
    }
   ],
   "source": [
    "print(f\"✅ Web3 Connection Check: {W3_BOT1.is_connected()}\")\n",
    "print(f\"✅ Using Account: {Account.from_key(PRIVATE_KEY).address}\")\n",
    "print(f\"✅ Next Nonce: {W3_BOT1.eth.get_transaction_count(Account.from_key(PRIVATE_KEY).address, 'pending')}\")\n"
   ]
  },
  {
   "cell_type": "code",
   "execution_count": 9,
   "metadata": {},
   "outputs": [],
   "source": [
    "W3_BOT2 = Web3(Web3.HTTPProvider(SEPOLIA_GATEWAY))\n",
    "\n",
    "ACCOUNT_BOT_2 = Account.from_key(BOT_2_KEY)\n",
    "\n",
    "W3_BOT2.eth.default_account = ACCOUNT_BOT_2.address\n",
    "W3_BOT2.middleware_onion.inject(geth_poa_middleware, layer=0)"
   ]
  },
  {
   "cell_type": "code",
   "execution_count": 10,
   "metadata": {},
   "outputs": [],
   "source": [
    "TOKEN_CONTRACTS = {'tbtc':TBTC_CONTRACT_ADDRESS,\n",
    "                   'teth':TETH_CONTRACT_ADDRESS }\n",
    "TOKEN_CONTRACTS = {token.upper(): address for token, address in TOKEN_CONTRACTS.items()}"
   ]
  },
  {
   "cell_type": "code",
   "execution_count": 11,
   "metadata": {},
   "outputs": [
    {
     "data": {
      "text/plain": [
       "{'TBTC': '0x86Ce29079Cc2b017Dbf3285fce40c911000a0F45',\n",
       " 'TETH': '0x3fc47744B859e08c59b71c883bDC204eBA100B60'}"
      ]
     },
     "execution_count": 11,
     "metadata": {},
     "output_type": "execute_result"
    }
   ],
   "source": [
    "TOKEN_CONTRACTS"
   ]
  },
  {
   "cell_type": "code",
   "execution_count": 12,
   "metadata": {},
   "outputs": [
    {
     "name": "stdout",
     "output_type": "stream",
     "text": [
      "Balances for account <eth_account.signers.local.LocalAccount object at 0x000001CF1B2255D0>: {'TBTC': 10.30209870380667, 'TETH': 123.96270172356736}\n",
      "Balances for account <eth_account.signers.local.LocalAccount object at 0x000001CF1B6316D0>: {'TBTC': 0.22623028869108427, 'TETH': 17.58182746611581}\n",
      "original_balances: {'TBTC': 10.30209870380667, 'TETH': 123.96270172356736} \n",
      " {'TBTC': 0.22623028869108427, 'TETH': 17.58182746611581}\n"
     ]
    }
   ],
   "source": [
    "BOT_1_BALANCE  = get_balance(W3_BOT1,ACCOUNT_BOT_1,TOKEN_CONTRACTS)\n",
    "BOT_2_BALANCE  = get_balance(W3_BOT2,ACCOUNT_BOT_2,TOKEN_CONTRACTS)\n",
    "print(f'original_balances: {BOT_1_BALANCE} \\n {BOT_2_BALANCE}')\n"
   ]
  },
  {
   "cell_type": "code",
   "execution_count": 13,
   "metadata": {},
   "outputs": [
    {
     "name": "stdout",
     "output_type": "stream",
     "text": [
      "96811\n",
      "2704.82\n"
     ]
    },
    {
     "data": {
      "text/plain": [
       "{'TBTC': 96811, 'TETH': 2704.82}"
      ]
     },
     "execution_count": 13,
     "metadata": {},
     "output_type": "execute_result"
    }
   ],
   "source": [
    "prices = {\n",
    "    \"TBTC\":get_token_price('0x2260fac5e5542a773aa44fbcfedf7c193bc2c599'),\n",
    "    'TETH':get_token_price()\n",
    "   \n",
    "}\n",
    "\n",
    "prices"
   ]
  },
  {
   "cell_type": "code",
   "execution_count": 14,
   "metadata": {},
   "outputs": [],
   "source": [
    "def convert_to_usd(balances, prices):\n",
    "    \"\"\"\n",
    "    Convert token balances to their USD equivalent using token prices.\n",
    "\n",
    "    Parameters:\n",
    "    - balances (dict): Dictionary of token balances.\n",
    "    - prices (dict): Dictionary of token prices.\n",
    "\n",
    "    Returns:\n",
    "    - dict: Dictionary of token balances converted to USD.\n",
    "    \"\"\"\n",
    "    # Convert token keys to upper case for consistency\n",
    "    balances = {token: balance for token, balance in balances.items()}\n",
    "\n",
    "    print(f'balances: {balances.keys()}')\n",
    "    print(f'TOKEN_CONTRACTS.keys(): {TOKEN_CONTRACTS.keys()}')\n",
    "\n",
    "    for token in TOKEN_CONTRACTS.keys():\n",
    "        if f\"{token}\" not in prices:\n",
    "            print(f\"Missing price for token: {token}\")\n",
    "\n",
    "    usd_balances = {\n",
    "        token: balances[token] * prices[f\"{token}\"]\n",
    "        for token in TOKEN_CONTRACTS.keys()\n",
    "        if f\"{token}\" in prices\n",
    "    }\n",
    "    return usd_balances"
   ]
  },
  {
   "cell_type": "code",
   "execution_count": 15,
   "metadata": {},
   "outputs": [],
   "source": [
    "def get_wallet_state(original_balances,prices):\n",
    "    # Fetch original holdings dynamically based on TOKEN_CONTRACTS\n",
    "    original_holdings = {\n",
    "        token: float(original_balances[token])\n",
    "        for token in TOKEN_CONTRACTS.keys() if token in original_balances\n",
    "    }\n",
    "\n",
    "    print(f'initial prices for USD conversion: {prices}')\n",
    "    print(f'initial balances used for USD conversion: {original_holdings}')\n",
    "\n",
    "    # Convert balances to USD\n",
    "    balances_in_usd = convert_to_usd(original_holdings, prices)\n",
    "    initial_portfolio_balance = sum(balances_in_usd.values())\n",
    "\n",
    "    # Calculate compositions dynamically\n",
    "    print(f'balances_in_usd.items(): {balances_in_usd.items()}')\n",
    "\n",
    "    comp_dict = {\n",
    "        f\"{token} comp\": balance_usd / initial_portfolio_balance\n",
    "        for token, balance_usd in balances_in_usd.items()\n",
    "    }\n",
    "\n",
    "    today_utc = dt.datetime.now(dt.timezone.utc) \n",
    "    formatted_today_utc = today_utc.strftime('%Y-%m-%d %H:00:00')\n",
    "\n",
    "    comp_dict[\"date\"] = formatted_today_utc\n",
    "\n",
    "    print(f'Composition dictionary: {comp_dict}')\n",
    "\n",
    "    return comp_dict, balances_in_usd, initial_portfolio_balance\n"
   ]
  },
  {
   "cell_type": "code",
   "execution_count": 16,
   "metadata": {},
   "outputs": [
    {
     "data": {
      "text/plain": [
       "{'TBTC': 10.30209870380667, 'TETH': 123.96270172356736}"
      ]
     },
     "execution_count": 16,
     "metadata": {},
     "output_type": "execute_result"
    }
   ],
   "source": [
    "BOT_1_BALANCE"
   ]
  },
  {
   "cell_type": "code",
   "execution_count": 17,
   "metadata": {},
   "outputs": [
    {
     "data": {
      "text/plain": [
       "{'TBTC': 96811, 'TETH': 2704.82}"
      ]
     },
     "execution_count": 17,
     "metadata": {},
     "output_type": "execute_result"
    }
   ],
   "source": [
    "prices"
   ]
  },
  {
   "cell_type": "code",
   "execution_count": 18,
   "metadata": {},
   "outputs": [
    {
     "name": "stdout",
     "output_type": "stream",
     "text": [
      "initial prices for USD conversion: {'TBTC': 96811, 'TETH': 2704.82}\n",
      "initial balances used for USD conversion: {'TBTC': 10.30209870380667, 'TETH': 123.96270172356736}\n",
      "balances: dict_keys(['TBTC', 'TETH'])\n",
      "TOKEN_CONTRACTS.keys(): dict_keys(['TBTC', 'TETH'])\n",
      "balances_in_usd.items(): dict_items([('TBTC', 997356.4776142276), ('TETH', 335296.7948759395)])\n",
      "Composition dictionary: {'TBTC comp': 0.748399075890602, 'TETH comp': 0.25160092410939805, 'date': '2025-02-07 01:00:00'}\n"
     ]
    }
   ],
   "source": [
    "BOT_1_STATE = get_wallet_state(BOT_1_BALANCE,prices)"
   ]
  },
  {
   "cell_type": "code",
   "execution_count": 19,
   "metadata": {},
   "outputs": [
    {
     "name": "stdout",
     "output_type": "stream",
     "text": [
      "initial prices for USD conversion: {'TBTC': 96811, 'TETH': 2704.82}\n",
      "initial balances used for USD conversion: {'TBTC': 0.22623028869108427, 'TETH': 17.58182746611581}\n",
      "balances: dict_keys(['TBTC', 'TETH'])\n",
      "TOKEN_CONTRACTS.keys(): dict_keys(['TBTC', 'TETH'])\n",
      "balances_in_usd.items(): dict_items([('TBTC', 21901.58047847256), ('TETH', 47555.67856689937)])\n",
      "Composition dictionary: {'TBTC comp': 0.3153245719668505, 'TETH comp': 0.6846754280331494, 'date': '2025-02-07 01:00:00'}\n"
     ]
    }
   ],
   "source": [
    "BOT_2_STATE = get_wallet_state(BOT_2_BALANCE,prices)"
   ]
  },
  {
   "cell_type": "code",
   "execution_count": 20,
   "metadata": {},
   "outputs": [],
   "source": [
    "def normalize_portfolio(portfolio):\n",
    "    total = np.sum(portfolio)\n",
    "    if total == 0:\n",
    "        # If the total is zero, avoid division by zero and return an equally distributed portfolio\n",
    "        return np.ones_like(portfolio) / len(portfolio)\n",
    "    return portfolio / total"
   ]
  },
  {
   "cell_type": "code",
   "execution_count": 21,
   "metadata": {},
   "outputs": [],
   "source": [
    "BOT_1_PORTFOLIO_ACTION = np.random.rand(2)\n",
    "BOT_1_PORTFOLIO_ACTION = normalize_portfolio(BOT_1_PORTFOLIO_ACTION) "
   ]
  },
  {
   "cell_type": "code",
   "execution_count": 22,
   "metadata": {},
   "outputs": [],
   "source": [
    "BOT_2_PORTFOLIO_ACTION = np.random.rand(2)\n",
    "BOT_2_PORTFOLIO_ACTION = normalize_portfolio(BOT_2_PORTFOLIO_ACTION) "
   ]
  },
  {
   "cell_type": "code",
   "execution_count": 23,
   "metadata": {},
   "outputs": [
    {
     "data": {
      "text/html": [
       "<div>\n",
       "<style scoped>\n",
       "    .dataframe tbody tr th:only-of-type {\n",
       "        vertical-align: middle;\n",
       "    }\n",
       "\n",
       "    .dataframe tbody tr th {\n",
       "        vertical-align: top;\n",
       "    }\n",
       "\n",
       "    .dataframe thead th {\n",
       "        text-align: right;\n",
       "    }\n",
       "</style>\n",
       "<table border=\"1\" class=\"dataframe\">\n",
       "  <thead>\n",
       "    <tr style=\"text-align: right;\">\n",
       "      <th></th>\n",
       "      <th>TETH</th>\n",
       "      <th>TBTC</th>\n",
       "    </tr>\n",
       "  </thead>\n",
       "  <tbody>\n",
       "    <tr>\n",
       "      <th>0</th>\n",
       "      <td>0.793294</td>\n",
       "      <td>0.206706</td>\n",
       "    </tr>\n",
       "  </tbody>\n",
       "</table>\n",
       "</div>"
      ],
      "text/plain": [
       "       TETH      TBTC\n",
       "0  0.793294  0.206706"
      ]
     },
     "execution_count": 23,
     "metadata": {},
     "output_type": "execute_result"
    }
   ],
   "source": [
    "BOT_1_ACTION_DF = pd.DataFrame(columns=['TETH','TBTC'],data=BOT_1_PORTFOLIO_ACTION.reshape(1, -1))\n",
    "BOT_1_ACTION_DF"
   ]
  },
  {
   "cell_type": "code",
   "execution_count": 24,
   "metadata": {},
   "outputs": [
    {
     "name": "stdout",
     "output_type": "stream",
     "text": [
      "new compositions: {'TBTC': 0.20670603456505532, 'TETH': 0.7932939654349447}\n"
     ]
    }
   ],
   "source": [
    "# Get new compositions dynamically from model actions\n",
    "new_compositions = {\n",
    "    token: float(BOT_1_ACTION_DF.iloc[-1][f\"{token}\"]) for token in TOKEN_CONTRACTS\n",
    "}\n",
    "\n",
    "print(f'new compositions: {new_compositions}')\n",
    "\n",
    "# Calculate total portfolio value\n",
    "total_value = sum(\n",
    "    BOT_1_BALANCE[token] * prices[f\"{token}\"] for token in TOKEN_CONTRACTS\n",
    ")\n",
    "\n",
    "target_balances = {\n",
    "    token: total_value * new_compositions.get(token, 0) / prices[f\"{token}\"]\n",
    "    for token in TOKEN_CONTRACTS\n",
    "}"
   ]
  },
  {
   "cell_type": "code",
   "execution_count": 25,
   "metadata": {},
   "outputs": [],
   "source": [
    "token_1_rebal_info = {\n",
    "    \"new compositions\": new_compositions,\n",
    "    \"prices\": prices,\n",
    "    \"initial holdings\": BOT_1_BALANCE,\n",
    "    \"account address\": BOT_1_ADDRESS,\n",
    "    \"target balances\": target_balances,\n",
    "    **{\n",
    "        f\"{token} bal usd\": BOT_1_BALANCE[token] * prices[f\"{token}\"]\n",
    "        for token in TOKEN_CONTRACTS\n",
    "    },\n",
    "    \"portfolio balance\": total_value\n",
    "}"
   ]
  },
  {
   "cell_type": "code",
   "execution_count": 26,
   "metadata": {},
   "outputs": [
    {
     "data": {
      "text/plain": [
       "{'new compositions': {'TBTC': 0.20670603456505532, 'TETH': 0.7932939654349447},\n",
       " 'prices': {'TBTC': 96811, 'TETH': 2704.82},\n",
       " 'initial holdings': {'TBTC': 10.30209870380667, 'TETH': 123.96270172356736},\n",
       " 'account address': '0x21efbeE92E732D9d87Ae7b67E0aae7a972bd23F8',\n",
       " 'target balances': {'TBTC': 2.845415019022493, 'TETH': 390.8525517718667},\n",
       " 'TBTC bal usd': 997356.4776142276,\n",
       " 'TETH bal usd': 335296.7948759395,\n",
       " 'portfolio balance': 1332653.272490167}"
      ]
     },
     "execution_count": 26,
     "metadata": {},
     "output_type": "execute_result"
    }
   ],
   "source": [
    "token_1_rebal_info"
   ]
  },
  {
   "cell_type": "code",
   "execution_count": 27,
   "metadata": {},
   "outputs": [],
   "source": [
    "erc20_abi = [\n",
    "    {\n",
    "        \"constant\": False,\n",
    "        \"inputs\": [\n",
    "            {\"name\": \"_to\", \"type\": \"address\"},\n",
    "            {\"name\": \"_value\", \"type\": \"uint256\"}\n",
    "        ],\n",
    "        \"name\": \"transfer\",\n",
    "        \"outputs\": [{\"name\": \"\", \"type\": \"bool\"}],\n",
    "        \"type\": \"function\"\n",
    "    }\n",
    "]"
   ]
  },
  {
   "cell_type": "code",
   "execution_count": 28,
   "metadata": {},
   "outputs": [],
   "source": [
    "def get_contract_address(token):\n",
    "    \"\"\"Get contract address based on token name.\"\"\"\n",
    "    if token == 'TBTC':\n",
    "        return TBTC_CONTRACT_ADDRESS\n",
    "    elif token == 'TETH':\n",
    "        return TETH_CONTRACT_ADDRESS\n",
    "    else:\n",
    "        raise ValueError(f\"Unknown token: {token}\")"
   ]
  },
  {
   "cell_type": "code",
   "execution_count": 29,
   "metadata": {},
   "outputs": [],
   "source": [
    "from web3.exceptions import TransactionNotFound,TimeExhausted\n",
    "import asyncio\n",
    "import math\n",
    "import traceback\n",
    "import aiohttp\n"
   ]
  },
  {
   "cell_type": "code",
   "execution_count": 30,
   "metadata": {},
   "outputs": [],
   "source": [
    "async def wait_for_transaction(w3,tx_hash, retries=30, delay=60):\n",
    "    \"\"\"Wait for transaction confirmation with detailed debugging.\"\"\"\n",
    "    print(f\"Waiting for transaction receipt: {tx_hash.hex()}\")\n",
    "    for attempt in range(retries):\n",
    "        try:\n",
    "            receipt = w3.eth.get_transaction_receipt(tx_hash)\n",
    "            print(f\"Transaction receipt: {receipt}\")\n",
    "            if receipt and receipt['status'] == 1:\n",
    "                print(f\"Transaction {tx_hash.hex()} confirmed successfully.\")\n",
    "                return receipt\n",
    "            elif receipt and receipt['status'] == 0:\n",
    "                raise Exception(f\"Transaction {tx_hash.hex()} failed on-chain.\")\n",
    "        except TransactionNotFound:\n",
    "            print(f\"Transaction {tx_hash.hex()} not yet confirmed. Attempt {attempt + 1}/{retries}. Retrying...\")\n",
    "        except TimeExhausted:\n",
    "            print(\"Transaction confirmation timed out.\")\n",
    "            break\n",
    "        await asyncio.sleep(delay)\n",
    "    raise Exception(f\"Transaction {tx_hash.hex()} failed to confirm within {retries} attempts.\")"
   ]
  },
  {
   "cell_type": "code",
   "execution_count": 31,
   "metadata": {},
   "outputs": [],
   "source": [
    "async def transfer_tokens(w3_instance, private_key, token, amount, recipient_address):\n",
    "    \"\"\"Ensure the correct Web3 instance is used for transactions.\"\"\"\n",
    "    print(f\"Starting transfer: token={token}, amount={amount}, recipient={recipient_address}\")\n",
    "\n",
    "    sender_address = Account.from_key(private_key).address\n",
    "    print(f\"Sender Address: {sender_address}\")\n",
    "\n",
    "    contract_address = get_contract_address(token)\n",
    "    amount_wei = int(amount * 10**18)\n",
    "\n",
    "    # ERC20 ABI\n",
    "    erc20_abi = [\n",
    "        {\n",
    "            \"constant\": False,\n",
    "            \"inputs\": [{\"name\": \"_to\", \"type\": \"address\"}, {\"name\": \"_value\", \"type\": \"uint256\"}],\n",
    "            \"name\": \"transfer\",\n",
    "            \"outputs\": [{\"name\": \"\", \"type\": \"bool\"}],\n",
    "            \"type\": \"function\"\n",
    "        }\n",
    "    ]\n",
    "\n",
    "    contract = w3_instance.eth.contract(address=Web3.to_checksum_address(contract_address), abi=erc20_abi)\n",
    "\n",
    "    # ✅ Get latest nonce (fixes \"nonce too low\" issue)\n",
    "    nonce = w3_instance.eth.get_transaction_count(sender_address, \"pending\")\n",
    "    print(f\"Using nonce: {nonce}\")\n",
    "\n",
    "    # ✅ Fetch gas price\n",
    "    gas_price = max(w3_instance.eth.gas_price, w3_instance.to_wei(\"20\", \"gwei\"))\n",
    "\n",
    "    # ✅ Estimate gas\n",
    "    try:\n",
    "        estimated_gas = contract.functions.transfer(\n",
    "            Web3.to_checksum_address(recipient_address), amount_wei\n",
    "        ).estimate_gas({'from': sender_address})\n",
    "    except Exception as e:\n",
    "        print(f\"Gas estimation failed: {e}\")\n",
    "        return None\n",
    "\n",
    "    # ✅ Build transaction\n",
    "    tx = contract.functions.transfer(\n",
    "        Web3.to_checksum_address(recipient_address),\n",
    "        amount_wei\n",
    "    ).build_transaction({\n",
    "        'chainId': w3_instance.eth.chain_id,\n",
    "        'gas': estimated_gas,\n",
    "        'gasPrice': gas_price,\n",
    "        'nonce': nonce,\n",
    "    })\n",
    "\n",
    "    print(f\"Transaction details: {tx}\")\n",
    "\n",
    "    # ✅ Sign transaction\n",
    "    signed_tx = w3_instance.eth.account.sign_transaction(tx, private_key=private_key)\n",
    "    print(f\"Signed transaction hash: {signed_tx.hash.hex()}\")\n",
    "\n",
    "    # ✅ Send transaction\n",
    "    try:\n",
    "        tx_hash = w3_instance.eth.send_raw_transaction(signed_tx.rawTransaction)\n",
    "        print(f\"Transaction sent: {tx_hash.hex()}\")\n",
    "        return tx_hash.hex()\n",
    "    except Exception as e:\n",
    "        print(f\"Error sending transaction: {e}\")\n",
    "        return None\n"
   ]
  },
  {
   "cell_type": "code",
   "execution_count": 32,
   "metadata": {},
   "outputs": [],
   "source": [
    "import json\n",
    "import numpy as np\n",
    "import aiohttp\n",
    "import asyncio\n",
    "\n",
    "async def send_rebalance_request(web3, token, amount_to_send, recipient_address, prices, initial_holdings, new_compositions):\n",
    "    \"\"\"Send rebalance request to the DEX app's endpoint.\"\"\"\n",
    "    url = 'http://127.0.0.1:5001/rebalance'\n",
    "\n",
    "    # Convert all NumPy types to Python native types\n",
    "    def convert_numpy(obj):\n",
    "        if isinstance(obj, np.integer):\n",
    "            return int(obj)  # Convert np.int64 → int\n",
    "        elif isinstance(obj, np.floating):\n",
    "            return float(obj)  # Convert np.float64 → float\n",
    "        elif isinstance(obj, dict):\n",
    "            return {k: convert_numpy(v) for k, v in obj.items()}  # Convert dict values\n",
    "        elif isinstance(obj, list):\n",
    "            return [convert_numpy(i) for i in obj]  # Convert list elements\n",
    "        return obj  # Return original if not NumPy type\n",
    "\n",
    "    rebalance_data = {\n",
    "        'recipient_address': web3.to_checksum_address(recipient_address),\n",
    "        'prices': convert_numpy(prices),\n",
    "        'initial_holdings': convert_numpy(initial_holdings),\n",
    "        'new_compositions': convert_numpy(new_compositions)\n",
    "    }\n",
    "\n",
    "    print(f\"Sending rebalance request to {url} with data: {rebalance_data}\")\n",
    "\n",
    "    try:\n",
    "        async with aiohttp.ClientSession(timeout=aiohttp.ClientTimeout(total=300)) as session:\n",
    "            async with session.post(url, json=rebalance_data) as response:\n",
    "                if response.status == 200:\n",
    "                    print(f\"Rebalance response: {await response.json()}\")\n",
    "                else:\n",
    "                    print(f\"Error: Received status {response.status} with response: {await response.text()}\")\n",
    "    except asyncio.TimeoutError:\n",
    "        print(f\"Timeout error when sending rebalance request for token: {token}\")\n",
    "    except aiohttp.ClientError as e:\n",
    "        print(f\"Error sending rebalance request: {e}, data: {rebalance_data}\")\n"
   ]
  },
  {
   "cell_type": "code",
   "execution_count": 33,
   "metadata": {},
   "outputs": [],
   "source": [
    "async def send_balances_to_fund(web3, contract_abi, private_key, initial_holdings, target_balances, prices, new_compositions,ACCOUNT_ADDRESS):\n",
    "    print(f\"Starting send back balance function...\")\n",
    "    print(\"Current balances:\", initial_holdings)\n",
    "    print(\"Target balances:\", target_balances)\n",
    "\n",
    "    processed_tokens = set()\n",
    "    needs_rebalance = False  # Track if we need to send a rebalance request\n",
    "\n",
    "    for token, target_balance in target_balances.items():\n",
    "        if token in processed_tokens:\n",
    "            print(f\"Token {token} already processed. Skipping...\")\n",
    "            continue\n",
    "\n",
    "        processed_tokens.add(token)\n",
    "\n",
    "        current_balance = initial_holdings.get(token, 0)\n",
    "        print(f\"Token: {token}, current balance: {current_balance}\")\n",
    "        amount_to_adjust = current_balance - target_balance\n",
    "        amount_to_adjust = math.floor(amount_to_adjust * 10**6) / 10**6\n",
    "        print(f\"Token: {token}, clipped amount to adjust: {amount_to_adjust}\")\n",
    "\n",
    "        if math.isclose(amount_to_adjust, 0, abs_tol=1e-6):\n",
    "            print(f\"Skipping token {token} with negligible adjustment: {amount_to_adjust}\")\n",
    "            continue\n",
    "\n",
    "        try:\n",
    "            if amount_to_adjust > 0:\n",
    "                # Handle excess tokens individually\n",
    "                print(f\"Sending back {amount_to_adjust} of {token} to the fund.\")\n",
    "                await transfer_tokens(web3,private_key,token=token, amount=amount_to_adjust, recipient_address=FUND_ACCOUNT_ADDRESS)\n",
    "            elif amount_to_adjust < 0:\n",
    "                # Mark that we need a rebalance request\n",
    "                needs_rebalance = True\n",
    "        except Exception as e:\n",
    "            print(f\"Error processing token {token}: {e}\")\n",
    "            traceback.print_exc()\n",
    "\n",
    "    # If any token requires rebalance, send a single request for all tokens\n",
    "    if needs_rebalance:\n",
    "        try:\n",
    "            await send_rebalance_request(\n",
    "                web3=web3,\n",
    "                token=None,  # Not used\n",
    "                amount_to_send=None,  # Not used\n",
    "                recipient_address=ACCOUNT_ADDRESS,\n",
    "                prices=prices,\n",
    "                initial_holdings=initial_holdings,\n",
    "                new_compositions=new_compositions,\n",
    "            )\n",
    "        except Exception as e:\n",
    "            print(f\"Error during rebalance request: {e}\")\n",
    "            traceback.print_exc()\n",
    "\n",
    "    print(\"Completed sending balances to fund.\")"
   ]
  },
  {
   "cell_type": "markdown",
   "metadata": {},
   "source": [
    "w3.eth.get_transaction_count(ACCOUNT_ADDRESS)"
   ]
  },
  {
   "cell_type": "code",
   "execution_count": 34,
   "metadata": {},
   "outputs": [],
   "source": [
    "from eth_account import Account"
   ]
  },
  {
   "cell_type": "code",
   "execution_count": 35,
   "metadata": {},
   "outputs": [
    {
     "data": {
      "text/plain": [
       "{'TBTC': 2.845415019022493, 'TETH': 390.8525517718667}"
      ]
     },
     "execution_count": 35,
     "metadata": {},
     "output_type": "execute_result"
    }
   ],
   "source": [
    "target_balances"
   ]
  },
  {
   "cell_type": "code",
   "execution_count": 36,
   "metadata": {},
   "outputs": [
    {
     "name": "stdout",
     "output_type": "stream",
     "text": [
      "✅ Your account: 0x2102240d1A36a9DC9F3A4d07eE9251cb723ACa89\n"
     ]
    }
   ],
   "source": [
    "ACCOUNT_ADDRESS = Account.from_key(PRIVATE_KEY).address\n",
    "\n",
    "print(f\"✅ Your account: {ACCOUNT_ADDRESS}\")\n",
    "\n",
    "# Set default account\n",
    "W3_BOT1.eth.default_account = ACCOUNT_ADDRESS"
   ]
  },
  {
   "cell_type": "code",
   "execution_count": 37,
   "metadata": {},
   "outputs": [
    {
     "name": "stdout",
     "output_type": "stream",
     "text": [
      "DEBUG: Web3 Client Version: Geth/v1.14.13-stable-eb00f169/linux-amd64/go1.23.5\n",
      "Web3 Instance Type: <class 'web3.main.Web3'>\n",
      "Web3 Connected: True\n",
      "Web3 Client Version: Geth/v1.14.13-stable-eb00f169/linux-amd64/go1.23.5\n",
      "Web3 Accounts: []\n"
     ]
    }
   ],
   "source": [
    "print(f\"DEBUG: Web3 Client Version: {W3_BOT1.client_version}\")  # ✅ CORRECT\n",
    "print(f\"Web3 Instance Type: {type(W3_BOT1)}\")\n",
    "print(f\"Web3 Connected: {W3_BOT1.is_connected()}\")\n",
    "print(f\"Web3 Client Version: {getattr(W3_BOT1, 'client_version', 'Not Available')}\")\n",
    "print(f\"Web3 Accounts: {W3_BOT1.eth.accounts if W3_BOT1.is_connected() else 'Not Connected'}\")\n"
   ]
  },
  {
   "cell_type": "code",
   "execution_count": 38,
   "metadata": {},
   "outputs": [
    {
     "name": "stdout",
     "output_type": "stream",
     "text": [
      "Starting send back balance function...\n",
      "Current balances: {'TBTC': 10.30209870380667, 'TETH': 123.96270172356736}\n",
      "Target balances: {'TBTC': 2.845415019022493, 'TETH': 390.8525517718667}\n",
      "Token: TBTC, current balance: 10.30209870380667\n",
      "Token: TBTC, clipped amount to adjust: 7.456683\n",
      "Sending back 7.456683 of TBTC to the fund.\n",
      "Starting transfer: token=TBTC, amount=7.456683, recipient=0x24E1F4029BbC228B74fE221f29821CF64366C2Fa\n",
      "Sender Address: 0x21efbeE92E732D9d87Ae7b67E0aae7a972bd23F8\n",
      "Using nonce: 37\n",
      "Transaction details: {'value': 0, 'chainId': 11155111, 'gas': 34863, 'gasPrice': 20000000000, 'nonce': 37, 'to': '0x86Ce29079Cc2b017Dbf3285fce40c911000a0F45', 'data': '0xa9059cbb00000000000000000000000024e1f4029bbc228b74fe221f29821cf64366c2fa000000000000000000000000000000000000000000000000677b75ae69b1b000'}\n",
      "Signed transaction hash: 0xbaa469a02bce36c77de9df5bf9b6644f100ce163ca10213ced7691a3b539f039\n",
      "Transaction sent: 0xbaa469a02bce36c77de9df5bf9b6644f100ce163ca10213ced7691a3b539f039\n",
      "Token: TETH, current balance: 123.96270172356736\n",
      "Token: TETH, clipped amount to adjust: -266.889851\n",
      "Sending rebalance request to http://127.0.0.1:5001/rebalance with data: {'recipient_address': '0x21efbeE92E732D9d87Ae7b67E0aae7a972bd23F8', 'prices': {'TBTC': 96811, 'TETH': 2704.82}, 'initial_holdings': {'TBTC': 10.30209870380667, 'TETH': 123.96270172356736}, 'new_compositions': {'TBTC': 0.20670603456505532, 'TETH': 0.7932939654349447}}\n",
      "Rebalance response: {'status': 'success'}\n",
      "Completed sending balances to fund.\n"
     ]
    }
   ],
   "source": [
    "await send_balances_to_fund(W3_BOT1, erc20_abi, BOT_1_KEY, BOT_1_BALANCE, target_balances, prices, new_compositions,BOT_1_ADDRESS)"
   ]
  },
  {
   "cell_type": "code",
   "execution_count": 39,
   "metadata": {},
   "outputs": [
    {
     "data": {
      "text/plain": [
       "dict_keys(['BatchTransfer_metadata', 'GasReserve_metadata', 'IGasReserve_metadata', 'ILiquidStaking_metadata', 'LiquidStaking_metadata', 'StETHStrategy_metadata', 'TestBTC_metadata', 'TestETH_metadata', 'YieldVault_metadata'])"
      ]
     },
     "execution_count": 39,
     "metadata": {},
     "output_type": "execute_result"
    }
   ],
   "source": [
    "abis.keys()"
   ]
  },
  {
   "cell_type": "code",
   "execution_count": 40,
   "metadata": {},
   "outputs": [],
   "source": [
    "controller_w3 = Web3(Web3.HTTPProvider(SEPOLIA_GATEWAY))\n",
    "\n",
    "ACCOUNT = Account.from_key(PRIVATE_KEY)\n",
    "\n",
    "controller_w3.eth.default_account = ACCOUNT.address\n",
    "controller_w3.middleware_onion.inject(geth_poa_middleware, layer=0)"
   ]
  },
  {
   "cell_type": "code",
   "execution_count": 41,
   "metadata": {},
   "outputs": [
    {
     "name": "stdout",
     "output_type": "stream",
     "text": [
      "{'abi/vault_abi.json': [{'inputs': [{'internalType': 'address', 'name': '_liquidStaking', 'type': 'address'}, {'internalType': 'address', 'name': '_gasReserve', 'type': 'address'}], 'stateMutability': 'nonpayable', 'type': 'constructor'}, {'inputs': [{'internalType': 'address', 'name': 'spender', 'type': 'address'}, {'internalType': 'uint256', 'name': 'allowance', 'type': 'uint256'}, {'internalType': 'uint256', 'name': 'needed', 'type': 'uint256'}], 'name': 'ERC20InsufficientAllowance', 'type': 'error'}, {'inputs': [{'internalType': 'address', 'name': 'sender', 'type': 'address'}, {'internalType': 'uint256', 'name': 'balance', 'type': 'uint256'}, {'internalType': 'uint256', 'name': 'needed', 'type': 'uint256'}], 'name': 'ERC20InsufficientBalance', 'type': 'error'}, {'inputs': [{'internalType': 'address', 'name': 'approver', 'type': 'address'}], 'name': 'ERC20InvalidApprover', 'type': 'error'}, {'inputs': [{'internalType': 'address', 'name': 'receiver', 'type': 'address'}], 'name': 'ERC20InvalidReceiver', 'type': 'error'}, {'inputs': [{'internalType': 'address', 'name': 'sender', 'type': 'address'}], 'name': 'ERC20InvalidSender', 'type': 'error'}, {'inputs': [{'internalType': 'address', 'name': 'spender', 'type': 'address'}], 'name': 'ERC20InvalidSpender', 'type': 'error'}, {'inputs': [{'internalType': 'address', 'name': 'owner', 'type': 'address'}], 'name': 'OwnableInvalidOwner', 'type': 'error'}, {'inputs': [{'internalType': 'address', 'name': 'account', 'type': 'address'}], 'name': 'OwnableUnauthorizedAccount', 'type': 'error'}, {'anonymous': False, 'inputs': [{'indexed': True, 'internalType': 'address', 'name': 'owner', 'type': 'address'}, {'indexed': True, 'internalType': 'address', 'name': 'spender', 'type': 'address'}, {'indexed': False, 'internalType': 'uint256', 'name': 'value', 'type': 'uint256'}], 'name': 'Approval', 'type': 'event'}, {'anonymous': False, 'inputs': [{'indexed': True, 'internalType': 'address', 'name': 'previousOwner', 'type': 'address'}, {'indexed': True, 'internalType': 'address', 'name': 'newOwner', 'type': 'address'}], 'name': 'OwnershipTransferred', 'type': 'event'}, {'anonymous': False, 'inputs': [{'indexed': True, 'internalType': 'address', 'name': 'from', 'type': 'address'}, {'indexed': True, 'internalType': 'address', 'name': 'to', 'type': 'address'}, {'indexed': False, 'internalType': 'uint256', 'name': 'value', 'type': 'uint256'}], 'name': 'Transfer', 'type': 'event'}, {'inputs': [{'internalType': 'address', 'name': 'owner', 'type': 'address'}, {'internalType': 'address', 'name': 'spender', 'type': 'address'}], 'name': 'allowance', 'outputs': [{'internalType': 'uint256', 'name': '', 'type': 'uint256'}], 'stateMutability': 'view', 'type': 'function'}, {'inputs': [{'internalType': 'address', 'name': 'spender', 'type': 'address'}, {'internalType': 'uint256', 'name': 'value', 'type': 'uint256'}], 'name': 'approve', 'outputs': [{'internalType': 'bool', 'name': '', 'type': 'bool'}], 'stateMutability': 'nonpayable', 'type': 'function'}, {'inputs': [{'internalType': 'address', 'name': 'account', 'type': 'address'}], 'name': 'balanceOf', 'outputs': [{'internalType': 'uint256', 'name': '', 'type': 'uint256'}], 'stateMutability': 'view', 'type': 'function'}, {'inputs': [], 'name': 'decimals', 'outputs': [{'internalType': 'uint8', 'name': '', 'type': 'uint8'}], 'stateMutability': 'view', 'type': 'function'}, {'inputs': [], 'name': 'deposit', 'outputs': [], 'stateMutability': 'payable', 'type': 'function'}, {'inputs': [{'internalType': 'address', 'name': 'user', 'type': 'address'}], 'name': 'earned', 'outputs': [{'internalType': 'uint256', 'name': '', 'type': 'uint256'}], 'stateMutability': 'view', 'type': 'function'}, {'inputs': [], 'name': 'gasReserve', 'outputs': [{'internalType': 'contract IGasReserve', 'name': '', 'type': 'address'}], 'stateMutability': 'view', 'type': 'function'}, {'inputs': [{'internalType': 'uint256', 'name': 'gasAmount', 'type': 'uint256'}], 'name': 'harvest', 'outputs': [], 'stateMutability': 'nonpayable', 'type': 'function'}, {'inputs': [], 'name': 'lastHarvestTime', 'outputs': [{'internalType': 'uint256', 'name': '', 'type': 'uint256'}], 'stateMutability': 'view', 'type': 'function'}, {'inputs': [], 'name': 'name', 'outputs': [{'internalType': 'string', 'name': '', 'type': 'string'}], 'stateMutability': 'view', 'type': 'function'}, {'inputs': [], 'name': 'owner', 'outputs': [{'internalType': 'address', 'name': '', 'type': 'address'}], 'stateMutability': 'view', 'type': 'function'}, {'inputs': [], 'name': 'renounceOwnership', 'outputs': [], 'stateMutability': 'nonpayable', 'type': 'function'}, {'inputs': [], 'name': 'stETH', 'outputs': [{'internalType': 'contract IERC20', 'name': '', 'type': 'address'}], 'stateMutability': 'view', 'type': 'function'}, {'inputs': [], 'name': 'symbol', 'outputs': [{'internalType': 'string', 'name': '', 'type': 'string'}], 'stateMutability': 'view', 'type': 'function'}, {'inputs': [], 'name': 'totalRewardsDistributed', 'outputs': [{'internalType': 'uint256', 'name': '', 'type': 'uint256'}], 'stateMutability': 'view', 'type': 'function'}, {'inputs': [], 'name': 'totalSupply', 'outputs': [{'internalType': 'uint256', 'name': '', 'type': 'uint256'}], 'stateMutability': 'view', 'type': 'function'}, {'inputs': [{'internalType': 'address', 'name': 'to', 'type': 'address'}, {'internalType': 'uint256', 'name': 'value', 'type': 'uint256'}], 'name': 'transfer', 'outputs': [{'internalType': 'bool', 'name': '', 'type': 'bool'}], 'stateMutability': 'nonpayable', 'type': 'function'}, {'inputs': [{'internalType': 'address', 'name': 'from', 'type': 'address'}, {'internalType': 'address', 'name': 'to', 'type': 'address'}, {'internalType': 'uint256', 'name': 'value', 'type': 'uint256'}], 'name': 'transferFrom', 'outputs': [{'internalType': 'bool', 'name': '', 'type': 'bool'}], 'stateMutability': 'nonpayable', 'type': 'function'}, {'inputs': [{'internalType': 'address', 'name': 'newOwner', 'type': 'address'}], 'name': 'transferOwnership', 'outputs': [], 'stateMutability': 'nonpayable', 'type': 'function'}, {'inputs': [{'internalType': 'uint256', 'name': '_amount', 'type': 'uint256'}], 'name': 'withdraw', 'outputs': [], 'stateMutability': 'nonpayable', 'type': 'function'}, {'stateMutability': 'payable', 'type': 'receive'}], 'abi/staking_abi.json': [{'inputs': [{'internalType': 'address', 'name': 'initialOwner', 'type': 'address'}], 'stateMutability': 'nonpayable', 'type': 'constructor'}, {'inputs': [{'internalType': 'address', 'name': 'spender', 'type': 'address'}, {'internalType': 'uint256', 'name': 'allowance', 'type': 'uint256'}, {'internalType': 'uint256', 'name': 'needed', 'type': 'uint256'}], 'name': 'ERC20InsufficientAllowance', 'type': 'error'}, {'inputs': [{'internalType': 'address', 'name': 'sender', 'type': 'address'}, {'internalType': 'uint256', 'name': 'balance', 'type': 'uint256'}, {'internalType': 'uint256', 'name': 'needed', 'type': 'uint256'}], 'name': 'ERC20InsufficientBalance', 'type': 'error'}, {'inputs': [{'internalType': 'address', 'name': 'approver', 'type': 'address'}], 'name': 'ERC20InvalidApprover', 'type': 'error'}, {'inputs': [{'internalType': 'address', 'name': 'receiver', 'type': 'address'}], 'name': 'ERC20InvalidReceiver', 'type': 'error'}, {'inputs': [{'internalType': 'address', 'name': 'sender', 'type': 'address'}], 'name': 'ERC20InvalidSender', 'type': 'error'}, {'inputs': [{'internalType': 'address', 'name': 'spender', 'type': 'address'}], 'name': 'ERC20InvalidSpender', 'type': 'error'}, {'inputs': [{'internalType': 'address', 'name': 'owner', 'type': 'address'}], 'name': 'OwnableInvalidOwner', 'type': 'error'}, {'inputs': [{'internalType': 'address', 'name': 'account', 'type': 'address'}], 'name': 'OwnableUnauthorizedAccount', 'type': 'error'}, {'anonymous': False, 'inputs': [{'indexed': True, 'internalType': 'address', 'name': 'owner', 'type': 'address'}, {'indexed': True, 'internalType': 'address', 'name': 'spender', 'type': 'address'}, {'indexed': False, 'internalType': 'uint256', 'name': 'value', 'type': 'uint256'}], 'name': 'Approval', 'type': 'event'}, {'anonymous': False, 'inputs': [{'indexed': True, 'internalType': 'address', 'name': 'user', 'type': 'address'}, {'indexed': False, 'internalType': 'uint256', 'name': 'amount', 'type': 'uint256'}], 'name': 'ClaimRewards', 'type': 'event'}, {'anonymous': False, 'inputs': [{'indexed': True, 'internalType': 'address', 'name': 'previousOwner', 'type': 'address'}, {'indexed': True, 'internalType': 'address', 'name': 'newOwner', 'type': 'address'}], 'name': 'OwnershipTransferred', 'type': 'event'}, {'anonymous': False, 'inputs': [{'indexed': True, 'internalType': 'address', 'name': 'from', 'type': 'address'}, {'indexed': True, 'internalType': 'address', 'name': 'to', 'type': 'address'}, {'indexed': False, 'internalType': 'uint256', 'name': 'value', 'type': 'uint256'}], 'name': 'Transfer', 'type': 'event'}, {'inputs': [], 'name': 'APY', 'outputs': [{'internalType': 'uint256', 'name': '', 'type': 'uint256'}], 'stateMutability': 'view', 'type': 'function'}, {'inputs': [], 'name': 'SECONDS_IN_YEAR', 'outputs': [{'internalType': 'uint256', 'name': '', 'type': 'uint256'}], 'stateMutability': 'view', 'type': 'function'}, {'inputs': [{'internalType': 'address', 'name': 'owner', 'type': 'address'}, {'internalType': 'address', 'name': 'spender', 'type': 'address'}], 'name': 'allowance', 'outputs': [{'internalType': 'uint256', 'name': '', 'type': 'uint256'}], 'stateMutability': 'view', 'type': 'function'}, {'inputs': [{'internalType': 'address', 'name': 'spender', 'type': 'address'}, {'internalType': 'uint256', 'name': 'value', 'type': 'uint256'}], 'name': 'approve', 'outputs': [{'internalType': 'bool', 'name': '', 'type': 'bool'}], 'stateMutability': 'nonpayable', 'type': 'function'}, {'inputs': [{'internalType': 'address', 'name': 'account', 'type': 'address'}], 'name': 'balanceOf', 'outputs': [{'internalType': 'uint256', 'name': '', 'type': 'uint256'}], 'stateMutability': 'view', 'type': 'function'}, {'inputs': [], 'name': 'claimRewards', 'outputs': [], 'stateMutability': 'nonpayable', 'type': 'function'}, {'inputs': [], 'name': 'decimals', 'outputs': [{'internalType': 'uint8', 'name': '', 'type': 'uint8'}], 'stateMutability': 'view', 'type': 'function'}, {'inputs': [{'internalType': 'address', 'name': 'account', 'type': 'address'}], 'name': 'earned', 'outputs': [{'internalType': 'uint256', 'name': '', 'type': 'uint256'}], 'stateMutability': 'view', 'type': 'function'}, {'inputs': [], 'name': 'lastRewardTime', 'outputs': [{'internalType': 'uint256', 'name': '', 'type': 'uint256'}], 'stateMutability': 'view', 'type': 'function'}, {'inputs': [], 'name': 'name', 'outputs': [{'internalType': 'string', 'name': '', 'type': 'string'}], 'stateMutability': 'view', 'type': 'function'}, {'inputs': [], 'name': 'owner', 'outputs': [{'internalType': 'address', 'name': '', 'type': 'address'}], 'stateMutability': 'view', 'type': 'function'}, {'inputs': [], 'name': 'renounceOwnership', 'outputs': [], 'stateMutability': 'nonpayable', 'type': 'function'}, {'inputs': [], 'name': 'rewardPerToken', 'outputs': [{'internalType': 'uint256', 'name': '', 'type': 'uint256'}], 'stateMutability': 'view', 'type': 'function'}, {'inputs': [], 'name': 'rewardPerTokenStored', 'outputs': [{'internalType': 'uint256', 'name': '', 'type': 'uint256'}], 'stateMutability': 'view', 'type': 'function'}, {'inputs': [{'internalType': 'address', 'name': '', 'type': 'address'}], 'name': 'rewards', 'outputs': [{'internalType': 'uint256', 'name': '', 'type': 'uint256'}], 'stateMutability': 'view', 'type': 'function'}, {'inputs': [], 'name': 'stake', 'outputs': [], 'stateMutability': 'payable', 'type': 'function'}, {'inputs': [], 'name': 'symbol', 'outputs': [{'internalType': 'string', 'name': '', 'type': 'string'}], 'stateMutability': 'view', 'type': 'function'}, {'inputs': [], 'name': 'totalSupply', 'outputs': [{'internalType': 'uint256', 'name': '', 'type': 'uint256'}], 'stateMutability': 'view', 'type': 'function'}, {'inputs': [{'internalType': 'address', 'name': 'to', 'type': 'address'}, {'internalType': 'uint256', 'name': 'value', 'type': 'uint256'}], 'name': 'transfer', 'outputs': [{'internalType': 'bool', 'name': '', 'type': 'bool'}], 'stateMutability': 'nonpayable', 'type': 'function'}, {'inputs': [{'internalType': 'address', 'name': 'from', 'type': 'address'}, {'internalType': 'address', 'name': 'to', 'type': 'address'}, {'internalType': 'uint256', 'name': 'value', 'type': 'uint256'}], 'name': 'transferFrom', 'outputs': [{'internalType': 'bool', 'name': '', 'type': 'bool'}], 'stateMutability': 'nonpayable', 'type': 'function'}, {'inputs': [{'internalType': 'address', 'name': 'newOwner', 'type': 'address'}], 'name': 'transferOwnership', 'outputs': [], 'stateMutability': 'nonpayable', 'type': 'function'}, {'inputs': [{'internalType': 'uint256', 'name': '_amount', 'type': 'uint256'}], 'name': 'unstake', 'outputs': [], 'stateMutability': 'nonpayable', 'type': 'function'}, {'inputs': [{'internalType': 'address', 'name': '', 'type': 'address'}], 'name': 'userRewardPerTokenPaid', 'outputs': [{'internalType': 'uint256', 'name': '', 'type': 'uint256'}], 'stateMutability': 'view', 'type': 'function'}, {'inputs': [{'internalType': 'uint256', 'name': '_amount', 'type': 'uint256'}], 'name': 'withdrawETH', 'outputs': [], 'stateMutability': 'nonpayable', 'type': 'function'}, {'stateMutability': 'payable', 'type': 'receive'}]}\n"
     ]
    }
   ],
   "source": [
    "abi_file_path = \"abi/vault_abi.json\"\n",
    "staking_abi = \"abi/staking_abi.json\"\n",
    "\n",
    "abi_paths = [abi_file_path,staking_abi]\n",
    "abis = {}\n",
    "\n",
    "for path in abi_paths:\n",
    "    with open(path, \"r\") as file:\n",
    "        abis[path] = json.load(file)\n",
    "\n",
    "print(abis)"
   ]
  },
  {
   "cell_type": "code",
   "execution_count": 42,
   "metadata": {},
   "outputs": [],
   "source": [
    "vault_contract = controller_w3.eth.contract(address=YIELD_FARM_ADDRESS, abi=abis['abi/vault_abi.json'])"
   ]
  },
  {
   "cell_type": "code",
   "execution_count": 43,
   "metadata": {},
   "outputs": [],
   "source": [
    "staking_contract = controller_w3.eth.contract(address=STAKING_CONTRACT, abi=abis['abi/staking_abi.json'])"
   ]
  },
  {
   "cell_type": "code",
   "execution_count": 49,
   "metadata": {},
   "outputs": [
    {
     "name": "stdout",
     "output_type": "stream",
     "text": [
      "Account Balance: 0.406002785806493003 ETH\n",
      "Deposit Transaction Sent: 0x0001c2a4e504b0c542cb33c360e37f9f9faa07cbd089a7f93b6b3d9573304d25\n"
     ]
    }
   ],
   "source": [
    "balance_wei = controller_w3.eth.get_balance(ACCOUNT.address)\n",
    "print(f\"Account Balance: {controller_w3.from_wei(balance_wei, 'ether')} ETH\")\n",
    "\n",
    "# Transaction to Deposit ETH\n",
    "tx = vault_contract.functions.deposit().build_transaction({\n",
    "    'from': ACCOUNT.address,\n",
    "    'value': int(balance_wei*0.25),  # Depositing full balance\n",
    "    'gas': 200000,\n",
    "    'gasPrice': controller_w3.eth.gas_price,\n",
    "    'nonce': controller_w3.eth.get_transaction_count(ACCOUNT.address)\n",
    "})\n",
    "\n",
    "# Sign & Send Transaction\n",
    "signed_tx = controller_w3.eth.account.sign_transaction(tx, PRIVATE_KEY)\n",
    "tx_hash = controller_w3.eth.send_raw_transaction(signed_tx.rawTransaction)\n",
    "\n",
    "print(f\"Deposit Transaction Sent: {tx_hash.hex()}\")"
   ]
  },
  {
   "cell_type": "code",
   "execution_count": 44,
   "metadata": {},
   "outputs": [
    {
     "name": "stdout",
     "output_type": "stream",
     "text": [
      "Earned Rewards: 0.002 stETH\n"
     ]
    }
   ],
   "source": [
    "earned_rewards = vault_contract.functions.earned(ACCOUNT.address).call()\n",
    "print(f\"Earned Rewards: {earned_rewards / 10**18} stETH\")\n"
   ]
  },
  {
   "cell_type": "code",
   "execution_count": 45,
   "metadata": {},
   "outputs": [
    {
     "name": "stdout",
     "output_type": "stream",
     "text": [
      "Estimated Gas: 111159\n"
     ]
    }
   ],
   "source": [
    "try:\n",
    "    gas_estimate = staking_contract.functions.claimRewards().estimate_gas({'from': YIELD_FARM_ADDRESS})\n",
    "    print(f\"Estimated Gas: {gas_estimate}\")\n",
    "except Exception as e:\n",
    "    print(f\"Gas estimation failed: {e}\")\n",
    "    gas_estimate = 200000  # Default fallback gas"
   ]
  },
  {
   "cell_type": "code",
   "execution_count": 46,
   "metadata": {},
   "outputs": [
    {
     "name": "stdout",
     "output_type": "stream",
     "text": [
      "Harvest Transaction Sent: 0x577b9e019f157cc00b97457b643f2ff81c6833eafadb7ea80487e2eb2a64aa62\n"
     ]
    }
   ],
   "source": [
    "# ✅ Estimate Gas for Harvest\n",
    "\n",
    "tx = vault_contract.functions.harvest(gas_estimate).build_transaction({\n",
    "    'from': ACCOUNT.address,\n",
    "    'gas': 200000,\n",
    "    'gasPrice': controller_w3.eth.gas_price,\n",
    "    'nonce': controller_w3.eth.get_transaction_count(ACCOUNT.address)\n",
    "})\n",
    "\n",
    "signed_tx = controller_w3.eth.account.sign_transaction(tx, PRIVATE_KEY)\n",
    "tx_hash = controller_w3.eth.send_raw_transaction(signed_tx.rawTransaction)\n",
    "\n",
    "print(f\"Harvest Transaction Sent: {tx_hash.hex()}\")\n"
   ]
  },
  {
   "cell_type": "code",
   "execution_count": 47,
   "metadata": {},
   "outputs": [],
   "source": [
    "gas_reserve_spent = {\n",
    "    'hash':tx_hash.hex(),\n",
    "    'gas used':gas_estimate\n",
    "}"
   ]
  },
  {
   "cell_type": "code",
   "execution_count": 49,
   "metadata": {},
   "outputs": [],
   "source": [
    "from diskcache import Cache"
   ]
  },
  {
   "cell_type": "code",
   "execution_count": 50,
   "metadata": {},
   "outputs": [],
   "source": [
    "base_cache_dir = r'E:\\Projects\\gas_accountant'\n",
    "cache = Cache(os.path.join(base_cache_dir, 'cache')) "
   ]
  },
  {
   "cell_type": "code",
   "execution_count": 54,
   "metadata": {},
   "outputs": [],
   "source": [
    "def update_gas_reserve_data(live_comp):\n",
    "    new_data = pd.DataFrame([live_comp])\n",
    "    historical_data = cache.get(f'gas_reserve_spent', pd.DataFrame())\n",
    "    historical_data = pd.concat([historical_data, new_data]).reset_index(drop=True)\n",
    "    historical_data.drop_duplicates(subset='hash', keep='last', inplace=True)\n",
    "    cache.set(f'gas_reserve_spent', historical_data)"
   ]
  },
  {
   "cell_type": "code",
   "execution_count": 55,
   "metadata": {},
   "outputs": [],
   "source": [
    "update_gas_reserve_data(gas_reserve_spent)"
   ]
  },
  {
   "cell_type": "code",
   "execution_count": 56,
   "metadata": {},
   "outputs": [],
   "source": [
    "historical_data = cache.get(f'gas_reserve_spent')"
   ]
  },
  {
   "cell_type": "code",
   "execution_count": 57,
   "metadata": {},
   "outputs": [
    {
     "data": {
      "text/html": [
       "<div>\n",
       "<style scoped>\n",
       "    .dataframe tbody tr th:only-of-type {\n",
       "        vertical-align: middle;\n",
       "    }\n",
       "\n",
       "    .dataframe tbody tr th {\n",
       "        vertical-align: top;\n",
       "    }\n",
       "\n",
       "    .dataframe thead th {\n",
       "        text-align: right;\n",
       "    }\n",
       "</style>\n",
       "<table border=\"1\" class=\"dataframe\">\n",
       "  <thead>\n",
       "    <tr style=\"text-align: right;\">\n",
       "      <th></th>\n",
       "      <th>hash</th>\n",
       "      <th>gas used</th>\n",
       "    </tr>\n",
       "  </thead>\n",
       "  <tbody>\n",
       "    <tr>\n",
       "      <th>0</th>\n",
       "      <td>0x577b9e019f157cc00b97457b643f2ff81c6833eafadb...</td>\n",
       "      <td>111159</td>\n",
       "    </tr>\n",
       "  </tbody>\n",
       "</table>\n",
       "</div>"
      ],
      "text/plain": [
       "                                                hash  gas used\n",
       "0  0x577b9e019f157cc00b97457b643f2ff81c6833eafadb...    111159"
      ]
     },
     "execution_count": 57,
     "metadata": {},
     "output_type": "execute_result"
    }
   ],
   "source": [
    "historical_data"
   ]
  },
  {
   "cell_type": "code",
   "execution_count": null,
   "metadata": {},
   "outputs": [],
   "source": []
  }
 ],
 "metadata": {
  "kernelspec": {
   "display_name": "steth_optimizer",
   "language": "python",
   "name": "steth_optimizer"
  },
  "language_info": {
   "codemirror_mode": {
    "name": "ipython",
    "version": 3
   },
   "file_extension": ".py",
   "mimetype": "text/x-python",
   "name": "python",
   "nbconvert_exporter": "python",
   "pygments_lexer": "ipython3",
   "version": "3.11.9"
  }
 },
 "nbformat": 4,
 "nbformat_minor": 4
}
